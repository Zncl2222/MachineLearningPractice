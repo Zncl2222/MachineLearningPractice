{
 "cells": [
  {
   "cell_type": "code",
   "execution_count": 1,
   "id": "19eff489",
   "metadata": {
    "_cell_guid": "b1076dfc-b9ad-4769-8c92-a6c4dae69d19",
    "_uuid": "8f2839f25d086af736a60e9eeb907d3b93b6e0e5",
    "execution": {
     "iopub.execute_input": "2022-02-05T12:25:49.124448Z",
     "iopub.status.busy": "2022-02-05T12:25:49.123787Z",
     "iopub.status.idle": "2022-02-05T12:25:49.130861Z",
     "shell.execute_reply": "2022-02-05T12:25:49.131331Z",
     "shell.execute_reply.started": "2022-02-05T11:19:52.739081Z"
    },
    "papermill": {
     "duration": 0.06811,
     "end_time": "2022-02-05T12:25:49.131669",
     "exception": false,
     "start_time": "2022-02-05T12:25:49.063559",
     "status": "completed"
    },
    "tags": []
   },
   "outputs": [
    {
     "name": "stdout",
     "output_type": "stream",
     "text": [
      "/kaggle/input/c/titanic/train.csv\n",
      "/kaggle/input/c/titanic/test.csv\n",
      "/kaggle/input/c/titanic/gender_submission.csv\n"
     ]
    }
   ],
   "source": [
    "# This Python 3 environment comes with many helpful analytics libraries installed\n",
    "# It is defined by the kaggle/python Docker image: https://github.com/kaggle/docker-python\n",
    "# For example, here's several helpful packages to load\n",
    "\n",
    "import numpy as np # linear algebra\n",
    "import pandas as pd # data processing, CSV file I/O (e.g. pd.read_csv)\n",
    "\n",
    "# Input data files are available in the read-only \"../input/\" directory\n",
    "# For example, running this (by clicking run or pressing Shift+Enter) will list all files under the input directory\n",
    "\n",
    "import os\n",
    "for dirname, _, filenames in os.walk('/kaggle/input'):\n",
    "    for filename in filenames:\n",
    "        print(os.path.join(dirname, filename))\n",
    "\n",
    "# You can write up to 20GB to the current directory (/kaggle/working/) that gets preserved as output when you create a version using \"Save & Run All\" \n",
    "# You can also write temporary files to /kaggle/temp/, but they won't be saved outside of the current session"
   ]
  },
  {
   "cell_type": "code",
   "execution_count": 2,
   "id": "1e3b3411",
   "metadata": {
    "execution": {
     "iopub.execute_input": "2022-02-05T12:25:49.215869Z",
     "iopub.status.busy": "2022-02-05T12:25:49.215002Z",
     "iopub.status.idle": "2022-02-05T12:25:55.776542Z",
     "shell.execute_reply": "2022-02-05T12:25:55.775939Z",
     "shell.execute_reply.started": "2022-02-05T11:36:48.338702Z"
    },
    "papermill": {
     "duration": 6.605168,
     "end_time": "2022-02-05T12:25:55.776740",
     "exception": false,
     "start_time": "2022-02-05T12:25:49.171572",
     "status": "completed"
    },
    "tags": []
   },
   "outputs": [
    {
     "name": "stderr",
     "output_type": "stream",
     "text": [
      "2022-02-05 12:25:50.896192: W tensorflow/stream_executor/platform/default/dso_loader.cc:60] Could not load dynamic library 'libcudart.so.11.0'; dlerror: libcudart.so.11.0: cannot open shared object file: No such file or directory; LD_LIBRARY_PATH: /opt/conda/lib\n",
      "2022-02-05 12:25:50.896331: I tensorflow/stream_executor/cuda/cudart_stub.cc:29] Ignore above cudart dlerror if you do not have a GPU set up on your machine.\n"
     ]
    }
   ],
   "source": [
    "from sklearn.pipeline import Pipeline\n",
    "from sklearn.preprocessing import StandardScaler\n",
    "from sklearn.preprocessing import FunctionTransformer\n",
    "from sklearn.preprocessing import OneHotEncoder\n",
    "from sklearn.impute import SimpleImputer\n",
    "from sklearn.compose import ColumnTransformer\n",
    "\n",
    "from tensorflow.keras.layers import Dense,Dropout,BatchNormalization\n",
    "from tensorflow.keras.models import Sequential\n",
    "from tensorflow.keras.optimizers import Adam,Nadam\n",
    "from tensorflow.keras.callbacks import EarlyStopping,ModelCheckpoint\n",
    "from tensorflow import keras\n",
    "import seaborn as sns\n",
    "import tensorflow as tf\n",
    "import numpy as np \n",
    "import pandas as pd\n",
    "import matplotlib.pyplot as plt"
   ]
  },
  {
   "cell_type": "code",
   "execution_count": 3,
   "id": "d4aacd16",
   "metadata": {
    "execution": {
     "iopub.execute_input": "2022-02-05T12:25:55.858986Z",
     "iopub.status.busy": "2022-02-05T12:25:55.858264Z",
     "iopub.status.idle": "2022-02-05T12:25:55.899358Z",
     "shell.execute_reply": "2022-02-05T12:25:55.898734Z",
     "shell.execute_reply.started": "2022-02-05T12:21:11.142231Z"
    },
    "papermill": {
     "duration": 0.085232,
     "end_time": "2022-02-05T12:25:55.899516",
     "exception": false,
     "start_time": "2022-02-05T12:25:55.814284",
     "status": "completed"
    },
    "tags": []
   },
   "outputs": [],
   "source": [
    "gender_submission = pd.read_csv(r\"../input/c/titanic/gender_submission.csv\")\n",
    "train_data = pd.read_csv(r\"../input/c/titanic/train.csv\")\n",
    "test_data = pd.read_csv(r\"../input/c/titanic/test.csv\")"
   ]
  },
  {
   "cell_type": "code",
   "execution_count": 4,
   "id": "2e6a2269",
   "metadata": {
    "execution": {
     "iopub.execute_input": "2022-02-05T12:25:55.985588Z",
     "iopub.status.busy": "2022-02-05T12:25:55.984857Z",
     "iopub.status.idle": "2022-02-05T12:25:55.999633Z",
     "shell.execute_reply": "2022-02-05T12:25:56.000201Z",
     "shell.execute_reply.started": "2022-02-05T11:19:52.791744Z"
    },
    "papermill": {
     "duration": 0.061983,
     "end_time": "2022-02-05T12:25:56.000412",
     "exception": false,
     "start_time": "2022-02-05T12:25:55.938429",
     "status": "completed"
    },
    "tags": []
   },
   "outputs": [
    {
     "data": {
      "text/html": [
       "<div>\n",
       "<style scoped>\n",
       "    .dataframe tbody tr th:only-of-type {\n",
       "        vertical-align: middle;\n",
       "    }\n",
       "\n",
       "    .dataframe tbody tr th {\n",
       "        vertical-align: top;\n",
       "    }\n",
       "\n",
       "    .dataframe thead th {\n",
       "        text-align: right;\n",
       "    }\n",
       "</style>\n",
       "<table border=\"1\" class=\"dataframe\">\n",
       "  <thead>\n",
       "    <tr style=\"text-align: right;\">\n",
       "      <th></th>\n",
       "      <th>PassengerId</th>\n",
       "      <th>Survived</th>\n",
       "    </tr>\n",
       "  </thead>\n",
       "  <tbody>\n",
       "    <tr>\n",
       "      <th>0</th>\n",
       "      <td>892</td>\n",
       "      <td>0</td>\n",
       "    </tr>\n",
       "    <tr>\n",
       "      <th>1</th>\n",
       "      <td>893</td>\n",
       "      <td>1</td>\n",
       "    </tr>\n",
       "    <tr>\n",
       "      <th>2</th>\n",
       "      <td>894</td>\n",
       "      <td>0</td>\n",
       "    </tr>\n",
       "    <tr>\n",
       "      <th>3</th>\n",
       "      <td>895</td>\n",
       "      <td>0</td>\n",
       "    </tr>\n",
       "    <tr>\n",
       "      <th>4</th>\n",
       "      <td>896</td>\n",
       "      <td>1</td>\n",
       "    </tr>\n",
       "    <tr>\n",
       "      <th>...</th>\n",
       "      <td>...</td>\n",
       "      <td>...</td>\n",
       "    </tr>\n",
       "    <tr>\n",
       "      <th>413</th>\n",
       "      <td>1305</td>\n",
       "      <td>0</td>\n",
       "    </tr>\n",
       "    <tr>\n",
       "      <th>414</th>\n",
       "      <td>1306</td>\n",
       "      <td>1</td>\n",
       "    </tr>\n",
       "    <tr>\n",
       "      <th>415</th>\n",
       "      <td>1307</td>\n",
       "      <td>0</td>\n",
       "    </tr>\n",
       "    <tr>\n",
       "      <th>416</th>\n",
       "      <td>1308</td>\n",
       "      <td>0</td>\n",
       "    </tr>\n",
       "    <tr>\n",
       "      <th>417</th>\n",
       "      <td>1309</td>\n",
       "      <td>0</td>\n",
       "    </tr>\n",
       "  </tbody>\n",
       "</table>\n",
       "<p>418 rows × 2 columns</p>\n",
       "</div>"
      ],
      "text/plain": [
       "     PassengerId  Survived\n",
       "0            892         0\n",
       "1            893         1\n",
       "2            894         0\n",
       "3            895         0\n",
       "4            896         1\n",
       "..           ...       ...\n",
       "413         1305         0\n",
       "414         1306         1\n",
       "415         1307         0\n",
       "416         1308         0\n",
       "417         1309         0\n",
       "\n",
       "[418 rows x 2 columns]"
      ]
     },
     "execution_count": 4,
     "metadata": {},
     "output_type": "execute_result"
    }
   ],
   "source": [
    "gender_submission"
   ]
  },
  {
   "cell_type": "code",
   "execution_count": 5,
   "id": "5ffefc26",
   "metadata": {
    "execution": {
     "iopub.execute_input": "2022-02-05T12:25:56.088296Z",
     "iopub.status.busy": "2022-02-05T12:25:56.087221Z",
     "iopub.status.idle": "2022-02-05T12:25:56.107805Z",
     "shell.execute_reply": "2022-02-05T12:25:56.108314Z",
     "shell.execute_reply.started": "2022-02-05T11:19:52.808259Z"
    },
    "papermill": {
     "duration": 0.069763,
     "end_time": "2022-02-05T12:25:56.108508",
     "exception": false,
     "start_time": "2022-02-05T12:25:56.038745",
     "status": "completed"
    },
    "tags": []
   },
   "outputs": [
    {
     "data": {
      "text/html": [
       "<div>\n",
       "<style scoped>\n",
       "    .dataframe tbody tr th:only-of-type {\n",
       "        vertical-align: middle;\n",
       "    }\n",
       "\n",
       "    .dataframe tbody tr th {\n",
       "        vertical-align: top;\n",
       "    }\n",
       "\n",
       "    .dataframe thead th {\n",
       "        text-align: right;\n",
       "    }\n",
       "</style>\n",
       "<table border=\"1\" class=\"dataframe\">\n",
       "  <thead>\n",
       "    <tr style=\"text-align: right;\">\n",
       "      <th></th>\n",
       "      <th>PassengerId</th>\n",
       "      <th>Survived</th>\n",
       "      <th>Pclass</th>\n",
       "      <th>Name</th>\n",
       "      <th>Sex</th>\n",
       "      <th>Age</th>\n",
       "      <th>SibSp</th>\n",
       "      <th>Parch</th>\n",
       "      <th>Ticket</th>\n",
       "      <th>Fare</th>\n",
       "      <th>Cabin</th>\n",
       "      <th>Embarked</th>\n",
       "    </tr>\n",
       "  </thead>\n",
       "  <tbody>\n",
       "    <tr>\n",
       "      <th>0</th>\n",
       "      <td>1</td>\n",
       "      <td>0</td>\n",
       "      <td>3</td>\n",
       "      <td>Braund, Mr. Owen Harris</td>\n",
       "      <td>male</td>\n",
       "      <td>22.0</td>\n",
       "      <td>1</td>\n",
       "      <td>0</td>\n",
       "      <td>A/5 21171</td>\n",
       "      <td>7.2500</td>\n",
       "      <td>NaN</td>\n",
       "      <td>S</td>\n",
       "    </tr>\n",
       "    <tr>\n",
       "      <th>1</th>\n",
       "      <td>2</td>\n",
       "      <td>1</td>\n",
       "      <td>1</td>\n",
       "      <td>Cumings, Mrs. John Bradley (Florence Briggs Th...</td>\n",
       "      <td>female</td>\n",
       "      <td>38.0</td>\n",
       "      <td>1</td>\n",
       "      <td>0</td>\n",
       "      <td>PC 17599</td>\n",
       "      <td>71.2833</td>\n",
       "      <td>C85</td>\n",
       "      <td>C</td>\n",
       "    </tr>\n",
       "    <tr>\n",
       "      <th>2</th>\n",
       "      <td>3</td>\n",
       "      <td>1</td>\n",
       "      <td>3</td>\n",
       "      <td>Heikkinen, Miss. Laina</td>\n",
       "      <td>female</td>\n",
       "      <td>26.0</td>\n",
       "      <td>0</td>\n",
       "      <td>0</td>\n",
       "      <td>STON/O2. 3101282</td>\n",
       "      <td>7.9250</td>\n",
       "      <td>NaN</td>\n",
       "      <td>S</td>\n",
       "    </tr>\n",
       "    <tr>\n",
       "      <th>3</th>\n",
       "      <td>4</td>\n",
       "      <td>1</td>\n",
       "      <td>1</td>\n",
       "      <td>Futrelle, Mrs. Jacques Heath (Lily May Peel)</td>\n",
       "      <td>female</td>\n",
       "      <td>35.0</td>\n",
       "      <td>1</td>\n",
       "      <td>0</td>\n",
       "      <td>113803</td>\n",
       "      <td>53.1000</td>\n",
       "      <td>C123</td>\n",
       "      <td>S</td>\n",
       "    </tr>\n",
       "    <tr>\n",
       "      <th>4</th>\n",
       "      <td>5</td>\n",
       "      <td>0</td>\n",
       "      <td>3</td>\n",
       "      <td>Allen, Mr. William Henry</td>\n",
       "      <td>male</td>\n",
       "      <td>35.0</td>\n",
       "      <td>0</td>\n",
       "      <td>0</td>\n",
       "      <td>373450</td>\n",
       "      <td>8.0500</td>\n",
       "      <td>NaN</td>\n",
       "      <td>S</td>\n",
       "    </tr>\n",
       "    <tr>\n",
       "      <th>...</th>\n",
       "      <td>...</td>\n",
       "      <td>...</td>\n",
       "      <td>...</td>\n",
       "      <td>...</td>\n",
       "      <td>...</td>\n",
       "      <td>...</td>\n",
       "      <td>...</td>\n",
       "      <td>...</td>\n",
       "      <td>...</td>\n",
       "      <td>...</td>\n",
       "      <td>...</td>\n",
       "      <td>...</td>\n",
       "    </tr>\n",
       "    <tr>\n",
       "      <th>886</th>\n",
       "      <td>887</td>\n",
       "      <td>0</td>\n",
       "      <td>2</td>\n",
       "      <td>Montvila, Rev. Juozas</td>\n",
       "      <td>male</td>\n",
       "      <td>27.0</td>\n",
       "      <td>0</td>\n",
       "      <td>0</td>\n",
       "      <td>211536</td>\n",
       "      <td>13.0000</td>\n",
       "      <td>NaN</td>\n",
       "      <td>S</td>\n",
       "    </tr>\n",
       "    <tr>\n",
       "      <th>887</th>\n",
       "      <td>888</td>\n",
       "      <td>1</td>\n",
       "      <td>1</td>\n",
       "      <td>Graham, Miss. Margaret Edith</td>\n",
       "      <td>female</td>\n",
       "      <td>19.0</td>\n",
       "      <td>0</td>\n",
       "      <td>0</td>\n",
       "      <td>112053</td>\n",
       "      <td>30.0000</td>\n",
       "      <td>B42</td>\n",
       "      <td>S</td>\n",
       "    </tr>\n",
       "    <tr>\n",
       "      <th>888</th>\n",
       "      <td>889</td>\n",
       "      <td>0</td>\n",
       "      <td>3</td>\n",
       "      <td>Johnston, Miss. Catherine Helen \"Carrie\"</td>\n",
       "      <td>female</td>\n",
       "      <td>NaN</td>\n",
       "      <td>1</td>\n",
       "      <td>2</td>\n",
       "      <td>W./C. 6607</td>\n",
       "      <td>23.4500</td>\n",
       "      <td>NaN</td>\n",
       "      <td>S</td>\n",
       "    </tr>\n",
       "    <tr>\n",
       "      <th>889</th>\n",
       "      <td>890</td>\n",
       "      <td>1</td>\n",
       "      <td>1</td>\n",
       "      <td>Behr, Mr. Karl Howell</td>\n",
       "      <td>male</td>\n",
       "      <td>26.0</td>\n",
       "      <td>0</td>\n",
       "      <td>0</td>\n",
       "      <td>111369</td>\n",
       "      <td>30.0000</td>\n",
       "      <td>C148</td>\n",
       "      <td>C</td>\n",
       "    </tr>\n",
       "    <tr>\n",
       "      <th>890</th>\n",
       "      <td>891</td>\n",
       "      <td>0</td>\n",
       "      <td>3</td>\n",
       "      <td>Dooley, Mr. Patrick</td>\n",
       "      <td>male</td>\n",
       "      <td>32.0</td>\n",
       "      <td>0</td>\n",
       "      <td>0</td>\n",
       "      <td>370376</td>\n",
       "      <td>7.7500</td>\n",
       "      <td>NaN</td>\n",
       "      <td>Q</td>\n",
       "    </tr>\n",
       "  </tbody>\n",
       "</table>\n",
       "<p>891 rows × 12 columns</p>\n",
       "</div>"
      ],
      "text/plain": [
       "     PassengerId  Survived  Pclass  \\\n",
       "0              1         0       3   \n",
       "1              2         1       1   \n",
       "2              3         1       3   \n",
       "3              4         1       1   \n",
       "4              5         0       3   \n",
       "..           ...       ...     ...   \n",
       "886          887         0       2   \n",
       "887          888         1       1   \n",
       "888          889         0       3   \n",
       "889          890         1       1   \n",
       "890          891         0       3   \n",
       "\n",
       "                                                  Name     Sex   Age  SibSp  \\\n",
       "0                              Braund, Mr. Owen Harris    male  22.0      1   \n",
       "1    Cumings, Mrs. John Bradley (Florence Briggs Th...  female  38.0      1   \n",
       "2                               Heikkinen, Miss. Laina  female  26.0      0   \n",
       "3         Futrelle, Mrs. Jacques Heath (Lily May Peel)  female  35.0      1   \n",
       "4                             Allen, Mr. William Henry    male  35.0      0   \n",
       "..                                                 ...     ...   ...    ...   \n",
       "886                              Montvila, Rev. Juozas    male  27.0      0   \n",
       "887                       Graham, Miss. Margaret Edith  female  19.0      0   \n",
       "888           Johnston, Miss. Catherine Helen \"Carrie\"  female   NaN      1   \n",
       "889                              Behr, Mr. Karl Howell    male  26.0      0   \n",
       "890                                Dooley, Mr. Patrick    male  32.0      0   \n",
       "\n",
       "     Parch            Ticket     Fare Cabin Embarked  \n",
       "0        0         A/5 21171   7.2500   NaN        S  \n",
       "1        0          PC 17599  71.2833   C85        C  \n",
       "2        0  STON/O2. 3101282   7.9250   NaN        S  \n",
       "3        0            113803  53.1000  C123        S  \n",
       "4        0            373450   8.0500   NaN        S  \n",
       "..     ...               ...      ...   ...      ...  \n",
       "886      0            211536  13.0000   NaN        S  \n",
       "887      0            112053  30.0000   B42        S  \n",
       "888      2        W./C. 6607  23.4500   NaN        S  \n",
       "889      0            111369  30.0000  C148        C  \n",
       "890      0            370376   7.7500   NaN        Q  \n",
       "\n",
       "[891 rows x 12 columns]"
      ]
     },
     "execution_count": 5,
     "metadata": {},
     "output_type": "execute_result"
    }
   ],
   "source": [
    "train_data"
   ]
  },
  {
   "cell_type": "code",
   "execution_count": 6,
   "id": "5c5dbc42",
   "metadata": {
    "execution": {
     "iopub.execute_input": "2022-02-05T12:25:56.189235Z",
     "iopub.status.busy": "2022-02-05T12:25:56.188240Z",
     "iopub.status.idle": "2022-02-05T12:25:56.209060Z",
     "shell.execute_reply": "2022-02-05T12:25:56.209590Z",
     "shell.execute_reply.started": "2022-02-05T11:19:52.836271Z"
    },
    "papermill": {
     "duration": 0.06254,
     "end_time": "2022-02-05T12:25:56.209773",
     "exception": false,
     "start_time": "2022-02-05T12:25:56.147233",
     "status": "completed"
    },
    "tags": []
   },
   "outputs": [
    {
     "data": {
      "text/html": [
       "<div>\n",
       "<style scoped>\n",
       "    .dataframe tbody tr th:only-of-type {\n",
       "        vertical-align: middle;\n",
       "    }\n",
       "\n",
       "    .dataframe tbody tr th {\n",
       "        vertical-align: top;\n",
       "    }\n",
       "\n",
       "    .dataframe thead th {\n",
       "        text-align: right;\n",
       "    }\n",
       "</style>\n",
       "<table border=\"1\" class=\"dataframe\">\n",
       "  <thead>\n",
       "    <tr style=\"text-align: right;\">\n",
       "      <th></th>\n",
       "      <th>PassengerId</th>\n",
       "      <th>Pclass</th>\n",
       "      <th>Name</th>\n",
       "      <th>Sex</th>\n",
       "      <th>Age</th>\n",
       "      <th>SibSp</th>\n",
       "      <th>Parch</th>\n",
       "      <th>Ticket</th>\n",
       "      <th>Fare</th>\n",
       "      <th>Cabin</th>\n",
       "      <th>Embarked</th>\n",
       "    </tr>\n",
       "  </thead>\n",
       "  <tbody>\n",
       "    <tr>\n",
       "      <th>0</th>\n",
       "      <td>892</td>\n",
       "      <td>3</td>\n",
       "      <td>Kelly, Mr. James</td>\n",
       "      <td>male</td>\n",
       "      <td>34.5</td>\n",
       "      <td>0</td>\n",
       "      <td>0</td>\n",
       "      <td>330911</td>\n",
       "      <td>7.8292</td>\n",
       "      <td>NaN</td>\n",
       "      <td>Q</td>\n",
       "    </tr>\n",
       "    <tr>\n",
       "      <th>1</th>\n",
       "      <td>893</td>\n",
       "      <td>3</td>\n",
       "      <td>Wilkes, Mrs. James (Ellen Needs)</td>\n",
       "      <td>female</td>\n",
       "      <td>47.0</td>\n",
       "      <td>1</td>\n",
       "      <td>0</td>\n",
       "      <td>363272</td>\n",
       "      <td>7.0000</td>\n",
       "      <td>NaN</td>\n",
       "      <td>S</td>\n",
       "    </tr>\n",
       "    <tr>\n",
       "      <th>2</th>\n",
       "      <td>894</td>\n",
       "      <td>2</td>\n",
       "      <td>Myles, Mr. Thomas Francis</td>\n",
       "      <td>male</td>\n",
       "      <td>62.0</td>\n",
       "      <td>0</td>\n",
       "      <td>0</td>\n",
       "      <td>240276</td>\n",
       "      <td>9.6875</td>\n",
       "      <td>NaN</td>\n",
       "      <td>Q</td>\n",
       "    </tr>\n",
       "    <tr>\n",
       "      <th>3</th>\n",
       "      <td>895</td>\n",
       "      <td>3</td>\n",
       "      <td>Wirz, Mr. Albert</td>\n",
       "      <td>male</td>\n",
       "      <td>27.0</td>\n",
       "      <td>0</td>\n",
       "      <td>0</td>\n",
       "      <td>315154</td>\n",
       "      <td>8.6625</td>\n",
       "      <td>NaN</td>\n",
       "      <td>S</td>\n",
       "    </tr>\n",
       "    <tr>\n",
       "      <th>4</th>\n",
       "      <td>896</td>\n",
       "      <td>3</td>\n",
       "      <td>Hirvonen, Mrs. Alexander (Helga E Lindqvist)</td>\n",
       "      <td>female</td>\n",
       "      <td>22.0</td>\n",
       "      <td>1</td>\n",
       "      <td>1</td>\n",
       "      <td>3101298</td>\n",
       "      <td>12.2875</td>\n",
       "      <td>NaN</td>\n",
       "      <td>S</td>\n",
       "    </tr>\n",
       "    <tr>\n",
       "      <th>...</th>\n",
       "      <td>...</td>\n",
       "      <td>...</td>\n",
       "      <td>...</td>\n",
       "      <td>...</td>\n",
       "      <td>...</td>\n",
       "      <td>...</td>\n",
       "      <td>...</td>\n",
       "      <td>...</td>\n",
       "      <td>...</td>\n",
       "      <td>...</td>\n",
       "      <td>...</td>\n",
       "    </tr>\n",
       "    <tr>\n",
       "      <th>413</th>\n",
       "      <td>1305</td>\n",
       "      <td>3</td>\n",
       "      <td>Spector, Mr. Woolf</td>\n",
       "      <td>male</td>\n",
       "      <td>NaN</td>\n",
       "      <td>0</td>\n",
       "      <td>0</td>\n",
       "      <td>A.5. 3236</td>\n",
       "      <td>8.0500</td>\n",
       "      <td>NaN</td>\n",
       "      <td>S</td>\n",
       "    </tr>\n",
       "    <tr>\n",
       "      <th>414</th>\n",
       "      <td>1306</td>\n",
       "      <td>1</td>\n",
       "      <td>Oliva y Ocana, Dona. Fermina</td>\n",
       "      <td>female</td>\n",
       "      <td>39.0</td>\n",
       "      <td>0</td>\n",
       "      <td>0</td>\n",
       "      <td>PC 17758</td>\n",
       "      <td>108.9000</td>\n",
       "      <td>C105</td>\n",
       "      <td>C</td>\n",
       "    </tr>\n",
       "    <tr>\n",
       "      <th>415</th>\n",
       "      <td>1307</td>\n",
       "      <td>3</td>\n",
       "      <td>Saether, Mr. Simon Sivertsen</td>\n",
       "      <td>male</td>\n",
       "      <td>38.5</td>\n",
       "      <td>0</td>\n",
       "      <td>0</td>\n",
       "      <td>SOTON/O.Q. 3101262</td>\n",
       "      <td>7.2500</td>\n",
       "      <td>NaN</td>\n",
       "      <td>S</td>\n",
       "    </tr>\n",
       "    <tr>\n",
       "      <th>416</th>\n",
       "      <td>1308</td>\n",
       "      <td>3</td>\n",
       "      <td>Ware, Mr. Frederick</td>\n",
       "      <td>male</td>\n",
       "      <td>NaN</td>\n",
       "      <td>0</td>\n",
       "      <td>0</td>\n",
       "      <td>359309</td>\n",
       "      <td>8.0500</td>\n",
       "      <td>NaN</td>\n",
       "      <td>S</td>\n",
       "    </tr>\n",
       "    <tr>\n",
       "      <th>417</th>\n",
       "      <td>1309</td>\n",
       "      <td>3</td>\n",
       "      <td>Peter, Master. Michael J</td>\n",
       "      <td>male</td>\n",
       "      <td>NaN</td>\n",
       "      <td>1</td>\n",
       "      <td>1</td>\n",
       "      <td>2668</td>\n",
       "      <td>22.3583</td>\n",
       "      <td>NaN</td>\n",
       "      <td>C</td>\n",
       "    </tr>\n",
       "  </tbody>\n",
       "</table>\n",
       "<p>418 rows × 11 columns</p>\n",
       "</div>"
      ],
      "text/plain": [
       "     PassengerId  Pclass                                          Name  \\\n",
       "0            892       3                              Kelly, Mr. James   \n",
       "1            893       3              Wilkes, Mrs. James (Ellen Needs)   \n",
       "2            894       2                     Myles, Mr. Thomas Francis   \n",
       "3            895       3                              Wirz, Mr. Albert   \n",
       "4            896       3  Hirvonen, Mrs. Alexander (Helga E Lindqvist)   \n",
       "..           ...     ...                                           ...   \n",
       "413         1305       3                            Spector, Mr. Woolf   \n",
       "414         1306       1                  Oliva y Ocana, Dona. Fermina   \n",
       "415         1307       3                  Saether, Mr. Simon Sivertsen   \n",
       "416         1308       3                           Ware, Mr. Frederick   \n",
       "417         1309       3                      Peter, Master. Michael J   \n",
       "\n",
       "        Sex   Age  SibSp  Parch              Ticket      Fare Cabin Embarked  \n",
       "0      male  34.5      0      0              330911    7.8292   NaN        Q  \n",
       "1    female  47.0      1      0              363272    7.0000   NaN        S  \n",
       "2      male  62.0      0      0              240276    9.6875   NaN        Q  \n",
       "3      male  27.0      0      0              315154    8.6625   NaN        S  \n",
       "4    female  22.0      1      1             3101298   12.2875   NaN        S  \n",
       "..      ...   ...    ...    ...                 ...       ...   ...      ...  \n",
       "413    male   NaN      0      0           A.5. 3236    8.0500   NaN        S  \n",
       "414  female  39.0      0      0            PC 17758  108.9000  C105        C  \n",
       "415    male  38.5      0      0  SOTON/O.Q. 3101262    7.2500   NaN        S  \n",
       "416    male   NaN      0      0              359309    8.0500   NaN        S  \n",
       "417    male   NaN      1      1                2668   22.3583   NaN        C  \n",
       "\n",
       "[418 rows x 11 columns]"
      ]
     },
     "execution_count": 6,
     "metadata": {},
     "output_type": "execute_result"
    }
   ],
   "source": [
    "test_data"
   ]
  },
  {
   "cell_type": "code",
   "execution_count": 7,
   "id": "6b430f55",
   "metadata": {
    "execution": {
     "iopub.execute_input": "2022-02-05T12:25:56.291490Z",
     "iopub.status.busy": "2022-02-05T12:25:56.290593Z",
     "iopub.status.idle": "2022-02-05T12:25:56.331071Z",
     "shell.execute_reply": "2022-02-05T12:25:56.331531Z",
     "shell.execute_reply.started": "2022-02-05T11:19:52.861663Z"
    },
    "papermill": {
     "duration": 0.083143,
     "end_time": "2022-02-05T12:25:56.331726",
     "exception": false,
     "start_time": "2022-02-05T12:25:56.248583",
     "status": "completed"
    },
    "tags": []
   },
   "outputs": [
    {
     "data": {
      "text/html": [
       "<div>\n",
       "<style scoped>\n",
       "    .dataframe tbody tr th:only-of-type {\n",
       "        vertical-align: middle;\n",
       "    }\n",
       "\n",
       "    .dataframe tbody tr th {\n",
       "        vertical-align: top;\n",
       "    }\n",
       "\n",
       "    .dataframe thead th {\n",
       "        text-align: right;\n",
       "    }\n",
       "</style>\n",
       "<table border=\"1\" class=\"dataframe\">\n",
       "  <thead>\n",
       "    <tr style=\"text-align: right;\">\n",
       "      <th></th>\n",
       "      <th>PassengerId</th>\n",
       "      <th>Survived</th>\n",
       "      <th>Pclass</th>\n",
       "      <th>Age</th>\n",
       "      <th>SibSp</th>\n",
       "      <th>Parch</th>\n",
       "      <th>Fare</th>\n",
       "    </tr>\n",
       "  </thead>\n",
       "  <tbody>\n",
       "    <tr>\n",
       "      <th>count</th>\n",
       "      <td>891.000000</td>\n",
       "      <td>891.000000</td>\n",
       "      <td>891.000000</td>\n",
       "      <td>714.000000</td>\n",
       "      <td>891.000000</td>\n",
       "      <td>891.000000</td>\n",
       "      <td>891.000000</td>\n",
       "    </tr>\n",
       "    <tr>\n",
       "      <th>mean</th>\n",
       "      <td>446.000000</td>\n",
       "      <td>0.383838</td>\n",
       "      <td>2.308642</td>\n",
       "      <td>29.699118</td>\n",
       "      <td>0.523008</td>\n",
       "      <td>0.381594</td>\n",
       "      <td>32.204208</td>\n",
       "    </tr>\n",
       "    <tr>\n",
       "      <th>std</th>\n",
       "      <td>257.353842</td>\n",
       "      <td>0.486592</td>\n",
       "      <td>0.836071</td>\n",
       "      <td>14.526497</td>\n",
       "      <td>1.102743</td>\n",
       "      <td>0.806057</td>\n",
       "      <td>49.693429</td>\n",
       "    </tr>\n",
       "    <tr>\n",
       "      <th>min</th>\n",
       "      <td>1.000000</td>\n",
       "      <td>0.000000</td>\n",
       "      <td>1.000000</td>\n",
       "      <td>0.420000</td>\n",
       "      <td>0.000000</td>\n",
       "      <td>0.000000</td>\n",
       "      <td>0.000000</td>\n",
       "    </tr>\n",
       "    <tr>\n",
       "      <th>25%</th>\n",
       "      <td>223.500000</td>\n",
       "      <td>0.000000</td>\n",
       "      <td>2.000000</td>\n",
       "      <td>20.125000</td>\n",
       "      <td>0.000000</td>\n",
       "      <td>0.000000</td>\n",
       "      <td>7.910400</td>\n",
       "    </tr>\n",
       "    <tr>\n",
       "      <th>50%</th>\n",
       "      <td>446.000000</td>\n",
       "      <td>0.000000</td>\n",
       "      <td>3.000000</td>\n",
       "      <td>28.000000</td>\n",
       "      <td>0.000000</td>\n",
       "      <td>0.000000</td>\n",
       "      <td>14.454200</td>\n",
       "    </tr>\n",
       "    <tr>\n",
       "      <th>75%</th>\n",
       "      <td>668.500000</td>\n",
       "      <td>1.000000</td>\n",
       "      <td>3.000000</td>\n",
       "      <td>38.000000</td>\n",
       "      <td>1.000000</td>\n",
       "      <td>0.000000</td>\n",
       "      <td>31.000000</td>\n",
       "    </tr>\n",
       "    <tr>\n",
       "      <th>max</th>\n",
       "      <td>891.000000</td>\n",
       "      <td>1.000000</td>\n",
       "      <td>3.000000</td>\n",
       "      <td>80.000000</td>\n",
       "      <td>8.000000</td>\n",
       "      <td>6.000000</td>\n",
       "      <td>512.329200</td>\n",
       "    </tr>\n",
       "  </tbody>\n",
       "</table>\n",
       "</div>"
      ],
      "text/plain": [
       "       PassengerId    Survived      Pclass         Age       SibSp  \\\n",
       "count   891.000000  891.000000  891.000000  714.000000  891.000000   \n",
       "mean    446.000000    0.383838    2.308642   29.699118    0.523008   \n",
       "std     257.353842    0.486592    0.836071   14.526497    1.102743   \n",
       "min       1.000000    0.000000    1.000000    0.420000    0.000000   \n",
       "25%     223.500000    0.000000    2.000000   20.125000    0.000000   \n",
       "50%     446.000000    0.000000    3.000000   28.000000    0.000000   \n",
       "75%     668.500000    1.000000    3.000000   38.000000    1.000000   \n",
       "max     891.000000    1.000000    3.000000   80.000000    8.000000   \n",
       "\n",
       "            Parch        Fare  \n",
       "count  891.000000  891.000000  \n",
       "mean     0.381594   32.204208  \n",
       "std      0.806057   49.693429  \n",
       "min      0.000000    0.000000  \n",
       "25%      0.000000    7.910400  \n",
       "50%      0.000000   14.454200  \n",
       "75%      0.000000   31.000000  \n",
       "max      6.000000  512.329200  "
      ]
     },
     "execution_count": 7,
     "metadata": {},
     "output_type": "execute_result"
    }
   ],
   "source": [
    "train_data.describe()"
   ]
  },
  {
   "cell_type": "code",
   "execution_count": 8,
   "id": "2ed209ba",
   "metadata": {
    "execution": {
     "iopub.execute_input": "2022-02-05T12:25:56.414092Z",
     "iopub.status.busy": "2022-02-05T12:25:56.413107Z",
     "iopub.status.idle": "2022-02-05T12:25:57.199874Z",
     "shell.execute_reply": "2022-02-05T12:25:57.200371Z",
     "shell.execute_reply.started": "2022-02-05T11:19:52.900856Z"
    },
    "papermill": {
     "duration": 0.829585,
     "end_time": "2022-02-05T12:25:57.200553",
     "exception": false,
     "start_time": "2022-02-05T12:25:56.370968",
     "status": "completed"
    },
    "tags": []
   },
   "outputs": [
    {
     "data": {
      "text/plain": [
       "<AxesSubplot:>"
      ]
     },
     "execution_count": 8,
     "metadata": {},
     "output_type": "execute_result"
    },
    {
     "data": {
      "image/png": "[encoded data removed]",
      "text/plain": [
       "<Figure size 936x720 with 2 Axes>"
      ]
     },
     "metadata": {
      "needs_background": "light"
     },
     "output_type": "display_data"
    }
   ],
   "source": [
    "cov_plot=train_data.drop(columns=['PassengerId']).corr()\n",
    "plt.figure(figsize=(13,10))\n",
    "sns.heatmap(cov_plot,annot=True)"
   ]
  },
  {
   "cell_type": "code",
   "execution_count": 9,
   "id": "9a4c4954",
   "metadata": {
    "execution": {
     "iopub.execute_input": "2022-02-05T12:25:57.292117Z",
     "iopub.status.busy": "2022-02-05T12:25:57.291158Z",
     "iopub.status.idle": "2022-02-05T12:25:59.480816Z",
     "shell.execute_reply": "2022-02-05T12:25:59.480303Z",
     "shell.execute_reply.started": "2022-02-05T11:19:53.585541Z"
    },
    "papermill": {
     "duration": 2.239632,
     "end_time": "2022-02-05T12:25:59.480960",
     "exception": false,
     "start_time": "2022-02-05T12:25:57.241328",
     "status": "completed"
    },
    "tags": []
   },
   "outputs": [
    {
     "data": {
      "image/png": "[encoded data removed]",
      "text/plain": [
       "<Figure size 1080x1080 with 4 Axes>"
      ]
     },
     "metadata": {
      "needs_background": "light"
     },
     "output_type": "display_data"
    }
   ],
   "source": [
    "def barplot(feature,axis,hue_on=True):\n",
    "    \n",
    "    if hue_on==True:\n",
    "        plot=sns.barplot(x=feature,y=\"Survived\",hue=\"Pclass\",data=train_data,edgecolor='k',ax=axis)\n",
    "    else:\n",
    "        plot=sns.barplot(x=feature,y=\"Survived\",data=train_data,edgecolor='k',ax=axis)\n",
    "        \n",
    "    plt.ylabel(\"Survival Probability\",fontsize=13)\n",
    "\n",
    "    \n",
    "fig = plt.figure(figsize=(15,15))\n",
    "ax1 = fig.add_subplot(221)\n",
    "barplot(\"Pclass\",ax1,False)\n",
    "ax2 = fig.add_subplot(222)\n",
    "barplot(\"Sex\",ax2)\n",
    "ax3 = fig.add_subplot(223)\n",
    "barplot(\"SibSp\",ax3)\n",
    "ax4 = fig.add_subplot(224)\n",
    "barplot(\"Parch\",ax4)"
   ]
  },
  {
   "cell_type": "code",
   "execution_count": 10,
   "id": "38a068fc",
   "metadata": {
    "execution": {
     "iopub.execute_input": "2022-02-05T12:25:59.577086Z",
     "iopub.status.busy": "2022-02-05T12:25:59.576334Z",
     "iopub.status.idle": "2022-02-05T12:26:00.207167Z",
     "shell.execute_reply": "2022-02-05T12:26:00.206615Z",
     "shell.execute_reply.started": "2022-02-05T11:19:55.731507Z"
    },
    "papermill": {
     "duration": 0.683902,
     "end_time": "2022-02-05T12:26:00.207329",
     "exception": false,
     "start_time": "2022-02-05T12:25:59.523427",
     "status": "completed"
    },
    "tags": []
   },
   "outputs": [
    {
     "data": {
      "image/png": "[encoded data removed]",
      "text/plain": [
       "<Figure size 1080x432 with 2 Axes>"
      ]
     },
     "metadata": {
      "needs_background": "light"
     },
     "output_type": "display_data"
    }
   ],
   "source": [
    "fig = plt.figure(2,figsize=(15,6))\n",
    "ax5 = fig.add_subplot(121)\n",
    "train_data[train_data['Survived']==1]['Age'].hist(grid=False,alpha=0.4,bins=25,label='Survived',ax=ax5)\n",
    "train_data[train_data['Survived']==0]['Age'].hist(grid=False,alpha=0.4,bins=25,label='Dead',ax=ax5)\n",
    "plt.xlabel('Age');plt.ylabel('Counts')\n",
    "plt.legend(fontsize=16)\n",
    "\n",
    "ax6 = fig.add_subplot(122)\n",
    "#train_data[train_data['Survived']==1]['Age'].plot.kde(grid=False,alpha=0.4,label='Survived',ax=ax6)\n",
    "#train_data[train_data['Survived']==0]['Age'].plot.kde(grid=False,alpha=0.4,label='Dead',ax=ax6)\n",
    "plot=sns.kdeplot(train_data[\"Age\"][(train_data[\"Survived\"] == 1) & (train_data[\"Age\"].notnull())], color=\"blue\", shade= True,ax=ax6)\n",
    "plot=sns.kdeplot(train_data[\"Age\"][(train_data[\"Survived\"] == 0) & (train_data[\"Age\"].notnull())], color=\"Red\", shade = True,ax=ax6)\n",
    "plot = plot.legend([\"Survived\",\"Dead\"],fontsize=16)\n"
   ]
  },
  {
   "cell_type": "code",
   "execution_count": 11,
   "id": "3ffdf86b",
   "metadata": {
    "execution": {
     "iopub.execute_input": "2022-02-05T12:26:00.307615Z",
     "iopub.status.busy": "2022-02-05T12:26:00.306924Z",
     "iopub.status.idle": "2022-02-05T12:26:01.133595Z",
     "shell.execute_reply": "2022-02-05T12:26:01.134098Z",
     "shell.execute_reply.started": "2022-02-05T12:08:19.574185Z"
    },
    "papermill": {
     "duration": 0.88269,
     "end_time": "2022-02-05T12:26:01.134285",
     "exception": false,
     "start_time": "2022-02-05T12:26:00.251595",
     "status": "completed"
    },
    "tags": []
   },
   "outputs": [
    {
     "data": {
      "text/plain": [
       "Text(0, 0.5, 'Survival Probability')"
      ]
     },
     "execution_count": 11,
     "metadata": {},
     "output_type": "execute_result"
    },
    {
     "data": {
      "image/png": "[encoded data removed]",
      "text/plain": [
       "<Figure size 1080x432 with 2 Axes>"
      ]
     },
     "metadata": {
      "needs_background": "light"
     },
     "output_type": "display_data"
    }
   ],
   "source": [
    "train_data[\"Age_category\"]=pd.cut(train_data['Age'],bins=[0,18,60,max(train_data[\"Age\"])],labels=['child','adult','Elder'])\n",
    "train_data[\"Age_category\"].value_counts()\n",
    "\n",
    "fig=plt.figure(3,figsize=(15,6))\n",
    "\n",
    "ax7 = fig.add_subplot(121)\n",
    "plot = sns.barplot(x=\"Age_category\", y=\"Survived\", data=train_data,ax=ax7,edgecolor='k')\n",
    "plt.ylabel(\"Survival Probability\")\n",
    "ax8 = fig.add_subplot(122)\n",
    "plot2 = sns.barplot(x=\"Age_category\", y=\"Survived\", hue=\"Pclass\", data=train_data,ax=ax8,edgecolor='k')\n",
    "plt.ylabel(\"Survival Probability\")"
   ]
  },
  {
   "cell_type": "code",
   "execution_count": 12,
   "id": "c249d805",
   "metadata": {
    "execution": {
     "iopub.execute_input": "2022-02-05T12:26:01.229100Z",
     "iopub.status.busy": "2022-02-05T12:26:01.228114Z",
     "iopub.status.idle": "2022-02-05T12:26:02.439031Z",
     "shell.execute_reply": "2022-02-05T12:26:02.439547Z",
     "shell.execute_reply.started": "2022-02-05T12:08:22.180838Z"
    },
    "papermill": {
     "duration": 1.26049,
     "end_time": "2022-02-05T12:26:02.439768",
     "exception": false,
     "start_time": "2022-02-05T12:26:01.179278",
     "status": "completed"
    },
    "tags": []
   },
   "outputs": [
    {
     "data": {
      "text/plain": [
       "Text(0, 0.5, 'Survival Probability')"
      ]
     },
     "execution_count": 12,
     "metadata": {},
     "output_type": "execute_result"
    },
    {
     "data": {
      "image/png": "[encoded data removed]",
      "text/plain": [
       "<Figure size 1080x432 with 2 Axes>"
      ]
     },
     "metadata": {
      "needs_background": "light"
     },
     "output_type": "display_data"
    }
   ],
   "source": [
    "fig=plt.figure(figsize=(15,6))\n",
    "\n",
    "ax9 = fig.add_subplot(121)\n",
    "plot=sns.barplot(x=\"SibSp\", y=\"Survived\", data=train_data,edgecolor='k',ax=ax9)\n",
    "plt.ylabel(\"Survival Probability\")\n",
    "\n",
    "ax10 = fig.add_subplot(122)\n",
    "plot2=sns.barplot(x=\"SibSp\", y=\"Survived\", hue=\"Age_category\", data=train_data,edgecolor='k',ax=ax10)\n",
    "plt.ylabel(\"Survival Probability\")"
   ]
  },
  {
   "cell_type": "code",
   "execution_count": 13,
   "id": "2691cf40",
   "metadata": {
    "execution": {
     "iopub.execute_input": "2022-02-05T12:26:02.538348Z",
     "iopub.status.busy": "2022-02-05T12:26:02.537614Z",
     "iopub.status.idle": "2022-02-05T12:26:03.644323Z",
     "shell.execute_reply": "2022-02-05T12:26:03.643646Z",
     "shell.execute_reply.started": "2022-02-05T11:19:58.471829Z"
    },
    "papermill": {
     "duration": 1.15703,
     "end_time": "2022-02-05T12:26:03.644487",
     "exception": false,
     "start_time": "2022-02-05T12:26:02.487457",
     "status": "completed"
    },
    "tags": []
   },
   "outputs": [
    {
     "data": {
      "text/plain": [
       "Text(0, 0.5, 'Survival Probability')"
      ]
     },
     "execution_count": 13,
     "metadata": {},
     "output_type": "execute_result"
    },
    {
     "data": {
      "image/png": "[encoded data removed]",
      "text/plain": [
       "<Figure size 1080x432 with 2 Axes>"
      ]
     },
     "metadata": {
      "needs_background": "light"
     },
     "output_type": "display_data"
    }
   ],
   "source": [
    "fig=plt.figure(figsize=(15,6))\n",
    "\n",
    "ax9 = fig.add_subplot(121)\n",
    "plot=sns.barplot(x=\"Parch\", y=\"Survived\", data=train_data,edgecolor='k',ax=ax9)\n",
    "plt.ylabel(\"Survival Probability\")\n",
    "\n",
    "ax10 = fig.add_subplot(122)\n",
    "plot2=sns.barplot(x=\"Parch\", y=\"Survived\", hue=\"Age_category\", data=train_data,edgecolor='k',ax=ax10)\n",
    "plt.ylabel(\"Survival Probability\")"
   ]
  },
  {
   "cell_type": "code",
   "execution_count": 14,
   "id": "0a5f7d8b",
   "metadata": {
    "execution": {
     "iopub.execute_input": "2022-02-05T12:26:03.743516Z",
     "iopub.status.busy": "2022-02-05T12:26:03.742886Z",
     "iopub.status.idle": "2022-02-05T12:26:04.752003Z",
     "shell.execute_reply": "2022-02-05T12:26:04.752806Z",
     "shell.execute_reply.started": "2022-02-05T11:19:59.590698Z"
    },
    "papermill": {
     "duration": 1.060758,
     "end_time": "2022-02-05T12:26:04.753004",
     "exception": false,
     "start_time": "2022-02-05T12:26:03.692246",
     "status": "completed"
    },
    "tags": []
   },
   "outputs": [
    {
     "data": {
      "text/plain": [
       "<matplotlib.legend.Legend at 0x7f1420d62850>"
      ]
     },
     "execution_count": 14,
     "metadata": {},
     "output_type": "execute_result"
    },
    {
     "data": {
      "image/png": "[encoded data removed]",
      "text/plain": [
       "<Figure size 1080x864 with 3 Axes>"
      ]
     },
     "metadata": {
      "needs_background": "light"
     },
     "output_type": "display_data"
    }
   ],
   "source": [
    "fig = plt.figure(2,figsize=(15,12))\n",
    "ax5 = fig.add_subplot(221)\n",
    "train_data[(train_data['Survived']==1) & (train_data['Pclass']==1)]['Fare'].hist(grid=False,alpha=0.4,bins=20,label='Survived',ax=ax5)\n",
    "train_data[(train_data['Survived']==0) & (train_data['Pclass']==1)]['Fare'].hist(grid=False,alpha=0.4,bins=20,label='Dead',ax=ax5)\n",
    "plt.xlabel('Fare');plt.ylabel('Counts')\n",
    "plt.title('Pclass = 1',fontsize=13)\n",
    "plt.legend(fontsize=16)\n",
    "\n",
    "ax6 = fig.add_subplot(222)\n",
    "train_data[(train_data['Survived']==1) & (train_data['Pclass']==2)]['Fare'].hist(grid=False,alpha=0.4,bins=20,label='Survived',ax=ax6)\n",
    "train_data[(train_data['Survived']==0) & (train_data['Pclass']==2)]['Fare'].hist(grid=False,alpha=0.4,bins=20,label='Dead',ax=ax6)\n",
    "plt.xlabel('Fare');plt.ylabel('Counts')\n",
    "plt.title('Pclass = 2',fontsize=13)\n",
    "plt.legend(fontsize=16)\n",
    "\n",
    "ax7 = fig.add_subplot(223)\n",
    "train_data[(train_data['Survived']==1) & (train_data['Pclass']==3)]['Fare'].hist(grid=False,alpha=0.4,bins=20,label='Survived',ax=ax7)\n",
    "train_data[(train_data['Survived']==0) & (train_data['Pclass']==3)]['Fare'].hist(grid=False,alpha=0.4,bins=20,label='Dead',ax=ax7)\n",
    "plt.xlabel('Fare');plt.ylabel('Counts')\n",
    "plt.title('Pclass = 3',fontsize=13)\n",
    "plt.legend(fontsize=16)"
   ]
  },
  {
   "cell_type": "code",
   "execution_count": 15,
   "id": "de06e5b4",
   "metadata": {
    "execution": {
     "iopub.execute_input": "2022-02-05T12:26:04.858665Z",
     "iopub.status.busy": "2022-02-05T12:26:04.855459Z",
     "iopub.status.idle": "2022-02-05T12:26:04.870898Z",
     "shell.execute_reply": "2022-02-05T12:26:04.871417Z",
     "shell.execute_reply.started": "2022-02-05T12:08:26.616858Z"
    },
    "papermill": {
     "duration": 0.068825,
     "end_time": "2022-02-05T12:26:04.871595",
     "exception": false,
     "start_time": "2022-02-05T12:26:04.802770",
     "status": "completed"
    },
    "tags": []
   },
   "outputs": [
    {
     "data": {
      "text/html": [
       "<div>\n",
       "<style scoped>\n",
       "    .dataframe tbody tr th:only-of-type {\n",
       "        vertical-align: middle;\n",
       "    }\n",
       "\n",
       "    .dataframe tbody tr th {\n",
       "        vertical-align: top;\n",
       "    }\n",
       "\n",
       "    .dataframe thead th {\n",
       "        text-align: right;\n",
       "    }\n",
       "</style>\n",
       "<table border=\"1\" class=\"dataframe\">\n",
       "  <thead>\n",
       "    <tr style=\"text-align: right;\">\n",
       "      <th></th>\n",
       "      <th>Fare</th>\n",
       "      <th>Name</th>\n",
       "      <th>Ticket</th>\n",
       "      <th>SibSp</th>\n",
       "      <th>Parch</th>\n",
       "      <th>Sex</th>\n",
       "    </tr>\n",
       "  </thead>\n",
       "  <tbody>\n",
       "    <tr>\n",
       "      <th>159</th>\n",
       "      <td>69.55</td>\n",
       "      <td>Sage, Master. Thomas Henry</td>\n",
       "      <td>CA. 2343</td>\n",
       "      <td>8</td>\n",
       "      <td>2</td>\n",
       "      <td>male</td>\n",
       "    </tr>\n",
       "    <tr>\n",
       "      <th>180</th>\n",
       "      <td>69.55</td>\n",
       "      <td>Sage, Miss. Constance Gladys</td>\n",
       "      <td>CA. 2343</td>\n",
       "      <td>8</td>\n",
       "      <td>2</td>\n",
       "      <td>female</td>\n",
       "    </tr>\n",
       "    <tr>\n",
       "      <th>201</th>\n",
       "      <td>69.55</td>\n",
       "      <td>Sage, Mr. Frederick</td>\n",
       "      <td>CA. 2343</td>\n",
       "      <td>8</td>\n",
       "      <td>2</td>\n",
       "      <td>male</td>\n",
       "    </tr>\n",
       "    <tr>\n",
       "      <th>324</th>\n",
       "      <td>69.55</td>\n",
       "      <td>Sage, Mr. George John Jr</td>\n",
       "      <td>CA. 2343</td>\n",
       "      <td>8</td>\n",
       "      <td>2</td>\n",
       "      <td>male</td>\n",
       "    </tr>\n",
       "    <tr>\n",
       "      <th>792</th>\n",
       "      <td>69.55</td>\n",
       "      <td>Sage, Miss. Stella Anna</td>\n",
       "      <td>CA. 2343</td>\n",
       "      <td>8</td>\n",
       "      <td>2</td>\n",
       "      <td>female</td>\n",
       "    </tr>\n",
       "    <tr>\n",
       "      <th>846</th>\n",
       "      <td>69.55</td>\n",
       "      <td>Sage, Mr. Douglas Bullen</td>\n",
       "      <td>CA. 2343</td>\n",
       "      <td>8</td>\n",
       "      <td>2</td>\n",
       "      <td>male</td>\n",
       "    </tr>\n",
       "    <tr>\n",
       "      <th>863</th>\n",
       "      <td>69.55</td>\n",
       "      <td>Sage, Miss. Dorothy Edith \"Dolly\"</td>\n",
       "      <td>CA. 2343</td>\n",
       "      <td>8</td>\n",
       "      <td>2</td>\n",
       "      <td>female</td>\n",
       "    </tr>\n",
       "  </tbody>\n",
       "</table>\n",
       "</div>"
      ],
      "text/plain": [
       "      Fare                               Name    Ticket  SibSp  Parch     Sex\n",
       "159  69.55         Sage, Master. Thomas Henry  CA. 2343      8      2    male\n",
       "180  69.55       Sage, Miss. Constance Gladys  CA. 2343      8      2  female\n",
       "201  69.55                Sage, Mr. Frederick  CA. 2343      8      2    male\n",
       "324  69.55           Sage, Mr. George John Jr  CA. 2343      8      2    male\n",
       "792  69.55            Sage, Miss. Stella Anna  CA. 2343      8      2  female\n",
       "846  69.55           Sage, Mr. Douglas Bullen  CA. 2343      8      2    male\n",
       "863  69.55  Sage, Miss. Dorothy Edith \"Dolly\"  CA. 2343      8      2  female"
      ]
     },
     "execution_count": 15,
     "metadata": {},
     "output_type": "execute_result"
    }
   ],
   "source": [
    "train_data[['Fare','Name','Ticket','SibSp','Parch','Sex']].iloc[train_data.index[(train_data['Pclass']==3) & (train_data['Fare']>60)]]"
   ]
  },
  {
   "cell_type": "code",
   "execution_count": 16,
   "id": "19dfe9a3",
   "metadata": {
    "execution": {
     "iopub.execute_input": "2022-02-05T12:26:04.975552Z",
     "iopub.status.busy": "2022-02-05T12:26:04.974849Z",
     "iopub.status.idle": "2022-02-05T12:26:05.425990Z",
     "shell.execute_reply": "2022-02-05T12:26:05.426520Z",
     "shell.execute_reply.started": "2022-02-05T12:21:20.174593Z"
    },
    "papermill": {
     "duration": 0.505482,
     "end_time": "2022-02-05T12:26:05.426716",
     "exception": false,
     "start_time": "2022-02-05T12:26:04.921234",
     "status": "completed"
    },
    "tags": []
   },
   "outputs": [],
   "source": [
    "train_data['FareCorr'] = train_data['Fare'].copy()\n",
    "\n",
    "for grp, grp_df in train_data[['Ticket', 'Name', 'Pclass', 'Fare', 'PassengerId']].groupby(['Ticket']):\n",
    "    \n",
    "    if (len(grp_df) != 1):\n",
    "        \n",
    "        for ind, row in grp_df.iterrows():\n",
    "            passID = row['PassengerId']\n",
    "            train_data.loc[train_data['PassengerId'] == passID, 'FareCorr'] = train_data['Fare'][train_data['PassengerId'] == passID]/len(grp_df)"
   ]
  },
  {
   "cell_type": "code",
   "execution_count": 17,
   "id": "63d752e6",
   "metadata": {
    "execution": {
     "iopub.execute_input": "2022-02-05T12:26:05.530024Z",
     "iopub.status.busy": "2022-02-05T12:26:05.529293Z",
     "iopub.status.idle": "2022-02-05T12:26:05.657852Z",
     "shell.execute_reply": "2022-02-05T12:26:05.658394Z",
     "shell.execute_reply.started": "2022-02-05T12:21:22.431403Z"
    },
    "papermill": {
     "duration": 0.181576,
     "end_time": "2022-02-05T12:26:05.658602",
     "exception": false,
     "start_time": "2022-02-05T12:26:05.477026",
     "status": "completed"
    },
    "tags": []
   },
   "outputs": [],
   "source": [
    "test_data['FareCorr'] = test_data['Fare'].copy()\n",
    "\n",
    "for grp, grp_df in test_data[['Ticket', 'Name', 'Pclass', 'Fare', 'PassengerId']].groupby(['Ticket']):\n",
    "    \n",
    "    if (len(grp_df) != 1):\n",
    "        \n",
    "        for ind, row in grp_df.iterrows():\n",
    "            passID = row['PassengerId']\n",
    "            test_data.loc[test_data['PassengerId'] == passID, 'FareCorr'] = test_data['Fare'][test_data['PassengerId'] == passID]/len(grp_df)"
   ]
  },
  {
   "cell_type": "code",
   "execution_count": 18,
   "id": "e2947281",
   "metadata": {
    "execution": {
     "iopub.execute_input": "2022-02-05T12:26:05.763974Z",
     "iopub.status.busy": "2022-02-05T12:26:05.763286Z",
     "iopub.status.idle": "2022-02-05T12:26:07.301979Z",
     "shell.execute_reply": "2022-02-05T12:26:07.301408Z",
     "shell.execute_reply.started": "2022-02-05T11:20:01.218052Z"
    },
    "papermill": {
     "duration": 1.591998,
     "end_time": "2022-02-05T12:26:07.302143",
     "exception": false,
     "start_time": "2022-02-05T12:26:05.710145",
     "status": "completed"
    },
    "tags": []
   },
   "outputs": [
    {
     "data": {
      "text/plain": [
       "<matplotlib.legend.Legend at 0x7f142098f4d0>"
      ]
     },
     "execution_count": 18,
     "metadata": {},
     "output_type": "execute_result"
    },
    {
     "data": {
      "image/png": "[encoded data removed]",
      "text/plain": [
       "<Figure size 1080x864 with 3 Axes>"
      ]
     },
     "metadata": {
      "needs_background": "light"
     },
     "output_type": "display_data"
    }
   ],
   "source": [
    "fig = plt.figure(2,figsize=(15,12))\n",
    "ax5 = fig.add_subplot(221)\n",
    "train_data[(train_data['Survived']==1) & (train_data['Pclass']==1)]['FareCorr'].hist(grid=False,alpha=0.4,bins=20,label='Survived',ax=ax5)\n",
    "train_data[(train_data['Survived']==0) & (train_data['Pclass']==1)]['FareCorr'].hist(grid=False,alpha=0.4,bins=20,label='Dead',ax=ax5)\n",
    "plt.xlabel('Fare');plt.ylabel('Counts')\n",
    "plt.title('Pclass = 1',fontsize=13)\n",
    "plt.legend(fontsize=16)\n",
    "\n",
    "ax6 = fig.add_subplot(222)\n",
    "train_data[(train_data['Survived']==1) & (train_data['Pclass']==2)]['FareCorr'].hist(grid=False,alpha=0.4,bins=40,label='Survived',ax=ax6)\n",
    "train_data[(train_data['Survived']==0) & (train_data['Pclass']==2)]['FareCorr'].hist(grid=False,alpha=0.4,bins=40,label='Dead',ax=ax6)\n",
    "plt.xlabel('Fare');plt.ylabel('Counts')\n",
    "plt.title('Pclass = 2',fontsize=13)\n",
    "plt.legend(fontsize=16)\n",
    "\n",
    "ax7 = fig.add_subplot(223)\n",
    "train_data[(train_data['Survived']==1) & (train_data['Pclass']==3)]['FareCorr'].hist(grid=False,alpha=0.4,bins=40,label='Survived',ax=ax7)\n",
    "train_data[(train_data['Survived']==0) & (train_data['Pclass']==3)]['FareCorr'].hist(grid=False,alpha=0.4,bins=40,label='Dead',ax=ax7)\n",
    "plt.xlabel('Fare');plt.ylabel('Counts')\n",
    "plt.title('Pclass = 3',fontsize=13)\n",
    "plt.legend(fontsize=16)"
   ]
  },
  {
   "cell_type": "code",
   "execution_count": 19,
   "id": "1b12c8e7",
   "metadata": {
    "execution": {
     "iopub.execute_input": "2022-02-05T12:26:07.412910Z",
     "iopub.status.busy": "2022-02-05T12:26:07.412238Z",
     "iopub.status.idle": "2022-02-05T12:26:07.792095Z",
     "shell.execute_reply": "2022-02-05T12:26:07.792610Z",
     "shell.execute_reply.started": "2022-02-05T12:21:28.079813Z"
    },
    "papermill": {
     "duration": 0.439623,
     "end_time": "2022-02-05T12:26:07.792812",
     "exception": false,
     "start_time": "2022-02-05T12:26:07.353189",
     "status": "completed"
    },
    "tags": []
   },
   "outputs": [
    {
     "data": {
      "image/png": "[encoded data removed]",
      "text/plain": [
       "<Figure size 360x360 with 1 Axes>"
      ]
     },
     "metadata": {
      "needs_background": "light"
     },
     "output_type": "display_data"
    }
   ],
   "source": [
    "train_data['Fare_category']=pd.cut(train_data['FareCorr'], bins=[0,25,65,max(train_data[\"FareCorr\"]+1)], labels=['low','mid','high'])\n",
    "test_data['Fare_category']=pd.cut(test_data['FareCorr'], bins=[0,25,65,max(test_data[\"FareCorr\"]+1)], labels=['low','mid','high'])\n",
    "#train_data['Fare_category'].value_counts()\n",
    "plot = sns.catplot(x=\"Fare_category\", y='Survived',kind=\"bar\", data=train_data, height=5, aspect=1,edgecolor='k')"
   ]
  },
  {
   "cell_type": "code",
   "execution_count": 20,
   "id": "f3d2f844",
   "metadata": {
    "execution": {
     "iopub.execute_input": "2022-02-05T12:26:07.907392Z",
     "iopub.status.busy": "2022-02-05T12:26:07.906591Z",
     "iopub.status.idle": "2022-02-05T12:26:07.909789Z",
     "shell.execute_reply": "2022-02-05T12:26:07.910257Z",
     "shell.execute_reply.started": "2022-02-05T11:20:03.028308Z"
    },
    "papermill": {
     "duration": 0.06436,
     "end_time": "2022-02-05T12:26:07.910424",
     "exception": false,
     "start_time": "2022-02-05T12:26:07.846064",
     "status": "completed"
    },
    "tags": []
   },
   "outputs": [
    {
     "data": {
      "text/plain": [
       "0       low\n",
       "1      high\n",
       "2       low\n",
       "3       mid\n",
       "4       low\n",
       "       ... \n",
       "886     low\n",
       "887     mid\n",
       "888     low\n",
       "889     mid\n",
       "890     low\n",
       "Name: Fare_category, Length: 891, dtype: category\n",
       "Categories (3, object): ['low' < 'mid' < 'high']"
      ]
     },
     "execution_count": 20,
     "metadata": {},
     "output_type": "execute_result"
    }
   ],
   "source": [
    "train_data['Fare_category']"
   ]
  },
  {
   "cell_type": "code",
   "execution_count": 21,
   "id": "35a073b9",
   "metadata": {
    "execution": {
     "iopub.execute_input": "2022-02-05T12:26:08.018177Z",
     "iopub.status.busy": "2022-02-05T12:26:08.017476Z",
     "iopub.status.idle": "2022-02-05T12:26:08.035659Z",
     "shell.execute_reply": "2022-02-05T12:26:08.036196Z",
     "shell.execute_reply.started": "2022-02-05T12:22:36.268377Z"
    },
    "papermill": {
     "duration": 0.074239,
     "end_time": "2022-02-05T12:26:08.036371",
     "exception": false,
     "start_time": "2022-02-05T12:26:07.962132",
     "status": "completed"
    },
    "tags": []
   },
   "outputs": [
    {
     "data": {
      "text/plain": [
       "2    503\n",
       "3    202\n",
       "1     83\n",
       "4     81\n",
       "5     22\n",
       "Name: Age_category, dtype: int64"
      ]
     },
     "execution_count": 21,
     "metadata": {},
     "output_type": "execute_result"
    }
   ],
   "source": [
    "train_data['Age']=train_data['Age'].fillna(train_data['Age'].median())\n",
    "train_data[\"Age_category\"]= pd.cut(train_data[\"Age\"], bins=[0,15,30,45,60,max(train_data[\"Age\"]+1)], labels=['1','2','3','4','5'])\n",
    "\n",
    "test_data['Age']=test_data['Age'].fillna(test_data['Age'].median())\n",
    "test_data[\"Age_category\"]= pd.cut(test_data[\"Age\"], bins=[0,15,30,45,60,max(test_data[\"Age\"]+1)], labels=['1','2','3','4','5'])\n",
    "\n",
    "train_data['Age_category'].value_counts()"
   ]
  },
  {
   "cell_type": "code",
   "execution_count": 22,
   "id": "44fe7235",
   "metadata": {
    "execution": {
     "iopub.execute_input": "2022-02-05T12:26:08.145759Z",
     "iopub.status.busy": "2022-02-05T12:26:08.145081Z",
     "iopub.status.idle": "2022-02-05T12:26:08.163813Z",
     "shell.execute_reply": "2022-02-05T12:26:08.164314Z",
     "shell.execute_reply.started": "2022-02-05T12:22:38.231717Z"
    },
    "papermill": {
     "duration": 0.074849,
     "end_time": "2022-02-05T12:26:08.164486",
     "exception": false,
     "start_time": "2022-02-05T12:26:08.089637",
     "status": "completed"
    },
    "tags": []
   },
   "outputs": [
    {
     "data": {
      "text/plain": [
       "Single    537\n",
       "Small     292\n",
       "Big        62\n",
       "Name: FamilySize, dtype: int64"
      ]
     },
     "execution_count": 22,
     "metadata": {},
     "output_type": "execute_result"
    }
   ],
   "source": [
    "train_data.loc[train_data['SibSp'] + train_data['Parch'] + 1 == 1, 'FamilySize'] = 'Single'\n",
    "train_data.loc[train_data['SibSp'] + train_data['Parch'] + 1 > 1 , 'FamilySize'] = 'Small'\n",
    "train_data.loc[train_data['SibSp'] + train_data['Parch'] + 1 > 4 , 'FamilySize'] = 'Big'\n",
    "\n",
    "test_data.loc[test_data['SibSp'] + test_data['Parch'] + 1 == 1, 'FamilySize'] = 'Single'\n",
    "test_data.loc[test_data['SibSp'] + test_data['Parch'] + 1 > 1 , 'FamilySize'] = 'Small'\n",
    "test_data.loc[test_data['SibSp'] + test_data['Parch'] + 1 > 4 , 'FamilySize'] = 'Big'\n",
    "\n",
    "train_data.FamilySize.value_counts()"
   ]
  },
  {
   "cell_type": "code",
   "execution_count": 23,
   "id": "37c6626f",
   "metadata": {
    "execution": {
     "iopub.execute_input": "2022-02-05T12:26:08.273067Z",
     "iopub.status.busy": "2022-02-05T12:26:08.272430Z",
     "iopub.status.idle": "2022-02-05T12:26:08.296668Z",
     "shell.execute_reply": "2022-02-05T12:26:08.295674Z",
     "shell.execute_reply.started": "2022-02-05T12:22:39.511398Z"
    },
    "papermill": {
     "duration": 0.079926,
     "end_time": "2022-02-05T12:26:08.296845",
     "exception": false,
     "start_time": "2022-02-05T12:26:08.216919",
     "status": "completed"
    },
    "tags": []
   },
   "outputs": [
    {
     "name": "stdout",
     "output_type": "stream",
     "text": [
      "<class 'pandas.core.frame.DataFrame'>\n",
      "RangeIndex: 891 entries, 0 to 890\n",
      "Data columns (total 16 columns):\n",
      " #   Column         Non-Null Count  Dtype   \n",
      "---  ------         --------------  -----   \n",
      " 0   PassengerId    891 non-null    int64   \n",
      " 1   Survived       891 non-null    int64   \n",
      " 2   Pclass         891 non-null    int64   \n",
      " 3   Name           891 non-null    object  \n",
      " 4   Sex            891 non-null    object  \n",
      " 5   Age            891 non-null    float64 \n",
      " 6   SibSp          891 non-null    int64   \n",
      " 7   Parch          891 non-null    int64   \n",
      " 8   Ticket         891 non-null    object  \n",
      " 9   Fare           891 non-null    float64 \n",
      " 10  Cabin          204 non-null    object  \n",
      " 11  Embarked       889 non-null    object  \n",
      " 12  Age_category   891 non-null    category\n",
      " 13  FareCorr       891 non-null    float64 \n",
      " 14  Fare_category  876 non-null    category\n",
      " 15  FamilySize     891 non-null    object  \n",
      "dtypes: category(2), float64(3), int64(5), object(6)\n",
      "memory usage: 99.7+ KB\n"
     ]
    }
   ],
   "source": [
    "fa = train_data[train_data[\"Pclass\"] == 3]\n",
    "train_data['FareCorr'].fillna(fa['FareCorr'].median(), inplace = True)\n",
    "\n",
    "fa = test_data[test_data[\"Pclass\"] == 3]\n",
    "test_data['FareCorr'].fillna(fa['FareCorr'].median(), inplace = True)\n",
    "\n",
    "train_data.info()"
   ]
  },
  {
   "cell_type": "code",
   "execution_count": 24,
   "id": "a880cc4c",
   "metadata": {
    "execution": {
     "iopub.execute_input": "2022-02-05T12:26:08.410882Z",
     "iopub.status.busy": "2022-02-05T12:26:08.406507Z",
     "iopub.status.idle": "2022-02-05T12:26:08.422024Z",
     "shell.execute_reply": "2022-02-05T12:26:08.422579Z",
     "shell.execute_reply.started": "2022-02-05T12:22:41.096362Z"
    },
    "papermill": {
     "duration": 0.072762,
     "end_time": "2022-02-05T12:26:08.422772",
     "exception": false,
     "start_time": "2022-02-05T12:26:08.350010",
     "status": "completed"
    },
    "tags": []
   },
   "outputs": [
    {
     "data": {
      "text/plain": [
       "3    143\n",
       "1    139\n",
       "7    128\n",
       "6    127\n",
       "4    122\n",
       "2    116\n",
       "5    116\n",
       "Name: Fare_category, dtype: int64"
      ]
     },
     "execution_count": 24,
     "metadata": {},
     "output_type": "execute_result"
    }
   ],
   "source": [
    "train_data['Fare_category']=pd.qcut(train_data['FareCorr'], 7, labels=[1,2,3,4,5,6,7])\n",
    "test_data['Fare_category']=pd.qcut(test_data['FareCorr'], 7, labels=[1,2,3,4,5,6,7])\n",
    "train_data['Fare_category'].value_counts()"
   ]
  },
  {
   "cell_type": "code",
   "execution_count": 25,
   "id": "e8520b1e",
   "metadata": {
    "execution": {
     "iopub.execute_input": "2022-02-05T12:26:08.536325Z",
     "iopub.status.busy": "2022-02-05T12:26:08.535639Z",
     "iopub.status.idle": "2022-02-05T12:26:08.540134Z",
     "shell.execute_reply": "2022-02-05T12:26:08.539419Z",
     "shell.execute_reply.started": "2022-02-05T12:22:42.471952Z"
    },
    "papermill": {
     "duration": 0.063365,
     "end_time": "2022-02-05T12:26:08.540278",
     "exception": false,
     "start_time": "2022-02-05T12:26:08.476913",
     "status": "completed"
    },
    "tags": []
   },
   "outputs": [
    {
     "name": "stdout",
     "output_type": "stream",
     "text": [
      "The shape of train_data =  (891, 16)\n",
      "The shape of test_data =  (418, 15)\n"
     ]
    }
   ],
   "source": [
    "print(\"The shape of train_data = \",train_data.shape)\n",
    "print(\"The shape of test_data = \",test_data.shape)"
   ]
  },
  {
   "cell_type": "code",
   "execution_count": 26,
   "id": "b90dec70",
   "metadata": {
    "execution": {
     "iopub.execute_input": "2022-02-05T12:26:08.672329Z",
     "iopub.status.busy": "2022-02-05T12:26:08.671652Z",
     "iopub.status.idle": "2022-02-05T12:26:08.676183Z",
     "shell.execute_reply": "2022-02-05T12:26:08.675542Z",
     "shell.execute_reply.started": "2022-02-05T12:22:44.090824Z"
    },
    "papermill": {
     "duration": 0.08139,
     "end_time": "2022-02-05T12:26:08.676325",
     "exception": false,
     "start_time": "2022-02-05T12:26:08.594935",
     "status": "completed"
    },
    "tags": []
   },
   "outputs": [
    {
     "data": {
      "text/html": [
       "<div>\n",
       "<style scoped>\n",
       "    .dataframe tbody tr th:only-of-type {\n",
       "        vertical-align: middle;\n",
       "    }\n",
       "\n",
       "    .dataframe tbody tr th {\n",
       "        vertical-align: top;\n",
       "    }\n",
       "\n",
       "    .dataframe thead th {\n",
       "        text-align: right;\n",
       "    }\n",
       "</style>\n",
       "<table border=\"1\" class=\"dataframe\">\n",
       "  <thead>\n",
       "    <tr style=\"text-align: right;\">\n",
       "      <th></th>\n",
       "      <th>Pclass</th>\n",
       "      <th>Sex</th>\n",
       "      <th>Fare_category</th>\n",
       "      <th>Age_category</th>\n",
       "      <th>FamilySize</th>\n",
       "    </tr>\n",
       "  </thead>\n",
       "  <tbody>\n",
       "    <tr>\n",
       "      <th>0</th>\n",
       "      <td>3</td>\n",
       "      <td>male</td>\n",
       "      <td>2</td>\n",
       "      <td>3</td>\n",
       "      <td>Single</td>\n",
       "    </tr>\n",
       "    <tr>\n",
       "      <th>1</th>\n",
       "      <td>3</td>\n",
       "      <td>female</td>\n",
       "      <td>1</td>\n",
       "      <td>4</td>\n",
       "      <td>Small</td>\n",
       "    </tr>\n",
       "    <tr>\n",
       "      <th>2</th>\n",
       "      <td>2</td>\n",
       "      <td>male</td>\n",
       "      <td>3</td>\n",
       "      <td>5</td>\n",
       "      <td>Single</td>\n",
       "    </tr>\n",
       "    <tr>\n",
       "      <th>3</th>\n",
       "      <td>3</td>\n",
       "      <td>male</td>\n",
       "      <td>3</td>\n",
       "      <td>2</td>\n",
       "      <td>Single</td>\n",
       "    </tr>\n",
       "    <tr>\n",
       "      <th>4</th>\n",
       "      <td>3</td>\n",
       "      <td>female</td>\n",
       "      <td>4</td>\n",
       "      <td>2</td>\n",
       "      <td>Small</td>\n",
       "    </tr>\n",
       "    <tr>\n",
       "      <th>...</th>\n",
       "      <td>...</td>\n",
       "      <td>...</td>\n",
       "      <td>...</td>\n",
       "      <td>...</td>\n",
       "      <td>...</td>\n",
       "    </tr>\n",
       "    <tr>\n",
       "      <th>413</th>\n",
       "      <td>3</td>\n",
       "      <td>male</td>\n",
       "      <td>3</td>\n",
       "      <td>2</td>\n",
       "      <td>Single</td>\n",
       "    </tr>\n",
       "    <tr>\n",
       "      <th>414</th>\n",
       "      <td>1</td>\n",
       "      <td>female</td>\n",
       "      <td>7</td>\n",
       "      <td>3</td>\n",
       "      <td>Single</td>\n",
       "    </tr>\n",
       "    <tr>\n",
       "      <th>415</th>\n",
       "      <td>3</td>\n",
       "      <td>male</td>\n",
       "      <td>1</td>\n",
       "      <td>3</td>\n",
       "      <td>Single</td>\n",
       "    </tr>\n",
       "    <tr>\n",
       "      <th>416</th>\n",
       "      <td>3</td>\n",
       "      <td>male</td>\n",
       "      <td>3</td>\n",
       "      <td>2</td>\n",
       "      <td>Single</td>\n",
       "    </tr>\n",
       "    <tr>\n",
       "      <th>417</th>\n",
       "      <td>3</td>\n",
       "      <td>male</td>\n",
       "      <td>5</td>\n",
       "      <td>2</td>\n",
       "      <td>Small</td>\n",
       "    </tr>\n",
       "  </tbody>\n",
       "</table>\n",
       "<p>418 rows × 5 columns</p>\n",
       "</div>"
      ],
      "text/plain": [
       "     Pclass     Sex Fare_category Age_category FamilySize\n",
       "0         3    male             2            3     Single\n",
       "1         3  female             1            4      Small\n",
       "2         2    male             3            5     Single\n",
       "3         3    male             3            2     Single\n",
       "4         3  female             4            2      Small\n",
       "..      ...     ...           ...          ...        ...\n",
       "413       3    male             3            2     Single\n",
       "414       1  female             7            3     Single\n",
       "415       3    male             1            3     Single\n",
       "416       3    male             3            2     Single\n",
       "417       3    male             5            2      Small\n",
       "\n",
       "[418 rows x 5 columns]"
      ]
     },
     "execution_count": 26,
     "metadata": {},
     "output_type": "execute_result"
    }
   ],
   "source": [
    "#X_train=train_data.drop(['PassengerId','Name','Ticket','Cabin','Survived','Age','Fare','Parch','SibSp','Embarked','FareCorr'],axis=1)\n",
    "#y_train=train_data['Survived']\n",
    "#X_test=test_data.drop(['PassengerId','Name','Ticket','Cabin','Age','Fare'],axis=1)\n",
    "data_pre = train_data.drop(['Embarked','Survived','PassengerId','Name','Age','Parch','SibSp','Ticket','Fare','Cabin','FareCorr'],axis=1)\n",
    "data_test = test_data.drop(['Embarked','PassengerId','Name','Age','Parch','SibSp','Ticket','Fare','Cabin','FareCorr'],axis=1)\n",
    "data_test"
   ]
  },
  {
   "cell_type": "code",
   "execution_count": 27,
   "id": "7de33d99",
   "metadata": {
    "execution": {
     "iopub.execute_input": "2022-02-05T12:26:08.793047Z",
     "iopub.status.busy": "2022-02-05T12:26:08.792349Z",
     "iopub.status.idle": "2022-02-05T12:26:08.795008Z",
     "shell.execute_reply": "2022-02-05T12:26:08.795512Z",
     "shell.execute_reply.started": "2022-02-05T12:22:46.048745Z"
    },
    "papermill": {
     "duration": 0.064063,
     "end_time": "2022-02-05T12:26:08.795708",
     "exception": false,
     "start_time": "2022-02-05T12:26:08.731645",
     "status": "completed"
    },
    "tags": []
   },
   "outputs": [
    {
     "name": "stdout",
     "output_type": "stream",
     "text": [
      "The shape of train_data =  (891, 5)\n",
      "The shape of test_data =  (418, 5)\n"
     ]
    }
   ],
   "source": [
    "print(\"The shape of train_data = \",data_pre.shape)\n",
    "print(\"The shape of test_data = \",data_test.shape)"
   ]
  },
  {
   "cell_type": "code",
   "execution_count": 28,
   "id": "5a8bee2b",
   "metadata": {
    "execution": {
     "iopub.execute_input": "2022-02-05T12:26:08.911387Z",
     "iopub.status.busy": "2022-02-05T12:26:08.910713Z",
     "iopub.status.idle": "2022-02-05T12:26:08.945585Z",
     "shell.execute_reply": "2022-02-05T12:26:08.945065Z",
     "shell.execute_reply.started": "2022-02-05T12:22:47.297149Z"
    },
    "papermill": {
     "duration": 0.093297,
     "end_time": "2022-02-05T12:26:08.945757",
     "exception": false,
     "start_time": "2022-02-05T12:26:08.852460",
     "status": "completed"
    },
    "tags": []
   },
   "outputs": [
    {
     "data": {
      "text/plain": [
       "array(['Pclass_1', 'Pclass_2', 'Pclass_3', 'Sex_female', 'Sex_male',\n",
       "       'Age_category_1', 'Age_category_2', 'Age_category_3',\n",
       "       'Age_category_4', 'Age_category_5', 'Fare_category_1',\n",
       "       'Fare_category_2', 'Fare_category_3', 'Fare_category_4',\n",
       "       'Fare_category_5', 'Fare_category_6', 'Fare_category_7',\n",
       "       'FamilySize_Big', 'FamilySize_Single', 'FamilySize_Small'],\n",
       "      dtype=object)"
      ]
     },
     "execution_count": 28,
     "metadata": {},
     "output_type": "execute_result"
    }
   ],
   "source": [
    "num_attribs=[]\n",
    "cat_attribs = list( data_pre.drop(labels=num_attribs, axis=1).columns)\n",
    "\n",
    "cat_pipeline = Pipeline([\n",
    "        ('imputer', SimpleImputer(strategy=\"most_frequent\")),\n",
    "        ('cat', OneHotEncoder()),\n",
    "    ])\n",
    "\n",
    "full_pipeline = ColumnTransformer([\n",
    "        ('cat', cat_pipeline, cat_attribs),\n",
    "    ])\n",
    "\n",
    "data_post = full_pipeline.fit_transform(data_pre)\n",
    "\n",
    "oneHot=OneHotEncoder()\n",
    "data_post_alt=oneHot.fit_transform(data_pre[cat_attribs])\n",
    "\n",
    "feature_names = oneHot.get_feature_names(data_pre.columns)\n",
    "feature_names"
   ]
  },
  {
   "cell_type": "code",
   "execution_count": 29,
   "id": "2deb926e",
   "metadata": {
    "execution": {
     "iopub.execute_input": "2022-02-05T12:26:09.073985Z",
     "iopub.status.busy": "2022-02-05T12:26:09.069843Z",
     "iopub.status.idle": "2022-02-05T12:26:09.088001Z",
     "shell.execute_reply": "2022-02-05T12:26:09.087320Z",
     "shell.execute_reply.started": "2022-02-05T12:22:49.457609Z"
    },
    "papermill": {
     "duration": 0.087268,
     "end_time": "2022-02-05T12:26:09.088149",
     "exception": false,
     "start_time": "2022-02-05T12:26:09.000881",
     "status": "completed"
    },
    "tags": []
   },
   "outputs": [
    {
     "data": {
      "text/plain": [
       "array(['Pclass_1', 'Pclass_2', 'Pclass_3', 'Sex_female', 'Sex_male',\n",
       "       'Fare_category_1', 'Fare_category_2', 'Fare_category_3',\n",
       "       'Fare_category_4', 'Fare_category_5', 'Fare_category_6',\n",
       "       'Fare_category_7', 'Age_category_1', 'Age_category_2',\n",
       "       'Age_category_3', 'Age_category_4', 'Age_category_5',\n",
       "       'FamilySize_Big', 'FamilySize_Single', 'FamilySize_Small'],\n",
       "      dtype=object)"
      ]
     },
     "execution_count": 29,
     "metadata": {},
     "output_type": "execute_result"
    }
   ],
   "source": [
    "num_attribs_test=[]\n",
    "cat_attribs_test = list( data_test.drop(labels=num_attribs_test, axis=1).columns)\n",
    "\n",
    "cat_pipeline_test = Pipeline([\n",
    "        ('imputer', SimpleImputer(strategy=\"most_frequent\")),\n",
    "        ('cat', OneHotEncoder()),\n",
    "    ])\n",
    "\n",
    "full_pipeline_test = ColumnTransformer([\n",
    "        ('cat', cat_pipeline_test, cat_attribs_test),\n",
    "    ])\n",
    "\n",
    "data_pos_test = full_pipeline_test.fit_transform(data_test)\n",
    "\n",
    "oneHot_test=OneHotEncoder()\n",
    "data_post_alt_test=oneHot_test.fit_transform(data_test[cat_attribs_test])\n",
    "\n",
    "feature_names_test = oneHot_test.get_feature_names(data_test.columns)\n",
    "feature_names_test"
   ]
  },
  {
   "cell_type": "code",
   "execution_count": 30,
   "id": "71586e76",
   "metadata": {
    "execution": {
     "iopub.execute_input": "2022-02-05T12:26:09.209439Z",
     "iopub.status.busy": "2022-02-05T12:26:09.208461Z",
     "iopub.status.idle": "2022-02-05T12:26:09.224386Z",
     "shell.execute_reply": "2022-02-05T12:26:09.223604Z",
     "shell.execute_reply.started": "2022-02-05T12:22:51.766883Z"
    },
    "papermill": {
     "duration": 0.080987,
     "end_time": "2022-02-05T12:26:09.224607",
     "exception": false,
     "start_time": "2022-02-05T12:26:09.143620",
     "status": "completed"
    },
    "tags": []
   },
   "outputs": [
    {
     "name": "stdout",
     "output_type": "stream",
     "text": [
      "# instances: 891\n",
      "# features: 20\n",
      "# instances: 418\n",
      "# features: 20\n"
     ]
    }
   ],
   "source": [
    "# training data\n",
    "X_train = data_post[:len(train_data['Survived']),:].toarray()\n",
    "y_train = train_data['Survived'].copy().to_numpy()   # traget\n",
    "\n",
    "\n",
    "# test data\n",
    "X_test=data_pos_test[:len(train_data['Survived']),:].toarray()\n",
    "#X_test = data_post[len(train_data['Survived']):,:].toarray()\n",
    "print('# instances: '+ str(X_train.shape[0]))\n",
    "print('# features: '+ str(X_train.shape[1]))\n",
    "print('# instances: '+ str(X_test.shape[0]))\n",
    "print('# features: '+ str(X_test.shape[1]))"
   ]
  },
  {
   "cell_type": "code",
   "execution_count": 31,
   "id": "e3840f10",
   "metadata": {
    "execution": {
     "iopub.execute_input": "2022-02-05T12:26:09.343067Z",
     "iopub.status.busy": "2022-02-05T12:26:09.342380Z",
     "iopub.status.idle": "2022-02-05T12:26:09.345900Z",
     "shell.execute_reply": "2022-02-05T12:26:09.346617Z",
     "shell.execute_reply.started": "2022-02-05T11:20:03.249760Z"
    },
    "papermill": {
     "duration": 0.066061,
     "end_time": "2022-02-05T12:26:09.346882",
     "exception": false,
     "start_time": "2022-02-05T12:26:09.280821",
     "status": "completed"
    },
    "tags": []
   },
   "outputs": [],
   "source": [
    "#print(\"Train_data:\")\n",
    "#print(X_train.isnull().any())\n",
    "#print(\"--------------------\")\n",
    "#print(\"Test_data:\")\n",
    "#print(X_test.isnull().any())"
   ]
  },
  {
   "cell_type": "code",
   "execution_count": 32,
   "id": "85fa73a2",
   "metadata": {
    "execution": {
     "iopub.execute_input": "2022-02-05T12:26:09.466127Z",
     "iopub.status.busy": "2022-02-05T12:26:09.465301Z",
     "iopub.status.idle": "2022-02-05T12:26:09.467460Z",
     "shell.execute_reply": "2022-02-05T12:26:09.466827Z",
     "shell.execute_reply.started": "2022-02-05T11:20:03.644588Z"
    },
    "papermill": {
     "duration": 0.063013,
     "end_time": "2022-02-05T12:26:09.467619",
     "exception": false,
     "start_time": "2022-02-05T12:26:09.404606",
     "status": "completed"
    },
    "tags": []
   },
   "outputs": [],
   "source": [
    "#print(X_train['Fare_category'].count(None))\n",
    "#print(X_test['Cabin'].count(None))"
   ]
  },
  {
   "cell_type": "code",
   "execution_count": 33,
   "id": "faefa2e5",
   "metadata": {
    "execution": {
     "iopub.execute_input": "2022-02-05T12:26:09.589946Z",
     "iopub.status.busy": "2022-02-05T12:26:09.589234Z",
     "iopub.status.idle": "2022-02-05T12:26:09.591664Z",
     "shell.execute_reply": "2022-02-05T12:26:09.590929Z",
     "shell.execute_reply.started": "2022-02-05T11:20:03.646773Z"
    },
    "papermill": {
     "duration": 0.067362,
     "end_time": "2022-02-05T12:26:09.591900",
     "exception": false,
     "start_time": "2022-02-05T12:26:09.524538",
     "status": "completed"
    },
    "tags": []
   },
   "outputs": [],
   "source": [
    "#X_train['Age']=X_train['Age'].fillna(X_train['Age'].mean())\n",
    "#X_test['Age']=X_test['Age'].fillna(X_test['Age'].mean())\n",
    "#X_train['Fare']=X_train['Fare'].fillna(X_train['Fare'].mean())\n",
    "#X_test['Fare']=X_test['Fare'].fillna(X_test['Fare'].mean())\n",
    "#X_train['Embarked']=X_train['Embarked'].fillna('S')\n",
    "#X_test['Embarked']=X_test['Embarked'].fillna('S')\n",
    "#X_train['family']=X_train['SibSp']+X_train['Parch']+1\n",
    "#X_test['family']=X_test['SibSp']+X_train['Parch']+1\n",
    "#X_train=X_train.drop(['SibSp','Parch'],axis=1)\n",
    "#X_test=X_test.drop(['SibSp','Parch'],axis=1)"
   ]
  },
  {
   "cell_type": "code",
   "execution_count": 34,
   "id": "0b8af632",
   "metadata": {
    "execution": {
     "iopub.execute_input": "2022-02-05T12:26:09.716880Z",
     "iopub.status.busy": "2022-02-05T12:26:09.716113Z",
     "iopub.status.idle": "2022-02-05T12:26:09.722078Z",
     "shell.execute_reply": "2022-02-05T12:26:09.722584Z",
     "shell.execute_reply.started": "2022-02-05T11:20:03.648998Z"
    },
    "papermill": {
     "duration": 0.071907,
     "end_time": "2022-02-05T12:26:09.722792",
     "exception": false,
     "start_time": "2022-02-05T12:26:09.650885",
     "status": "completed"
    },
    "tags": []
   },
   "outputs": [],
   "source": [
    "def Sex_transform(df):\n",
    "    df['Sex']=pd.Categorical(df['Sex'])\n",
    "    df['Sex']=df['Sex'].cat.codes\n",
    "    return df\n",
    "def Embark_transform(df):\n",
    "    df['Embarked']=pd.Categorical(df['Embarked'])\n",
    "    df['Embarked']=df['Embarked'].cat.codes\n",
    "    return df\n",
    "def Cabins_transform(df):\n",
    "    df['Cabin'] = df['Cabin'].fillna('S')\n",
    "    df['Cabin'] = df['Cabin'].apply(lambda x: x[0])\n",
    "    df['Cabin'] =  pd.Categorical(df['Cabin'])\n",
    "    df['Cabin'] = df['Cabin'].cat.codes \n",
    "    return df\n",
    "def Fare_standard(df):\n",
    "    df['Fare']=(df['Fare']-df['Fare'].mean())/df['Fare'].std()\n",
    "    return df\n",
    "def Age_standard(df):\n",
    "    df['Age']=(df['Age']-df['Age'].mean())/df['Age'].std()\n",
    "def Age_transform(df):\n",
    "    df['Age_category']=pd.Categorical(df['Age_category'])\n",
    "    df['Age_category']=df['Age_category'].cat.codes\n",
    "def Fare_transform(df):\n",
    "    df['Fare_category']=pd.Categorical(df['Fare_category'])\n",
    "    df['Fare_category']=df['Fare_category'].cat.codes\n",
    "def Family_transform(df):\n",
    "    df['FamilySize']=pd.Categorical(df['FamilySize'])\n",
    "    df['FamilySize']=df['FamilySize'].cat.codes\n",
    "    "
   ]
  },
  {
   "cell_type": "code",
   "execution_count": 35,
   "id": "4ae99f76",
   "metadata": {
    "execution": {
     "iopub.execute_input": "2022-02-05T12:26:09.842486Z",
     "iopub.status.busy": "2022-02-05T12:26:09.841768Z",
     "iopub.status.idle": "2022-02-05T12:26:09.845863Z",
     "shell.execute_reply": "2022-02-05T12:26:09.846436Z",
     "shell.execute_reply.started": "2022-02-05T11:20:03.650634Z"
    },
    "papermill": {
     "duration": 0.065669,
     "end_time": "2022-02-05T12:26:09.846641",
     "exception": false,
     "start_time": "2022-02-05T12:26:09.780972",
     "status": "completed"
    },
    "tags": []
   },
   "outputs": [],
   "source": [
    "def transform(df):\n",
    "    Sex_transform(df)\n",
    "    Fare_transform(df)\n",
    "    Age_transform(df)\n",
    "    Family_transform(df)\n",
    "    #Cabins_transform(df)\n",
    "    #Fare_standard(df)\n",
    "    #Age_standard(df)\n",
    "    #Embark_transform(df)\n",
    "\n",
    "\n",
    "#transform(X_train)\n",
    "#transform(X_test)"
   ]
  },
  {
   "cell_type": "code",
   "execution_count": 36,
   "id": "a1b9d409",
   "metadata": {
    "execution": {
     "iopub.execute_input": "2022-02-05T12:26:09.964185Z",
     "iopub.status.busy": "2022-02-05T12:26:09.963444Z",
     "iopub.status.idle": "2022-02-05T12:26:09.966601Z",
     "shell.execute_reply": "2022-02-05T12:26:09.967156Z",
     "shell.execute_reply.started": "2022-02-05T11:20:03.652326Z"
    },
    "papermill": {
     "duration": 0.063397,
     "end_time": "2022-02-05T12:26:09.967352",
     "exception": false,
     "start_time": "2022-02-05T12:26:09.903955",
     "status": "completed"
    },
    "tags": []
   },
   "outputs": [],
   "source": [
    "#X_train=np.array(X_train)\n",
    "#X_test=np.array(X_test)\n",
    "#X_train.shape"
   ]
  },
  {
   "cell_type": "code",
   "execution_count": 37,
   "id": "33de67d3",
   "metadata": {
    "execution": {
     "iopub.execute_input": "2022-02-05T12:26:10.084817Z",
     "iopub.status.busy": "2022-02-05T12:26:10.084122Z",
     "iopub.status.idle": "2022-02-05T12:26:10.087260Z",
     "shell.execute_reply": "2022-02-05T12:26:10.087795Z",
     "shell.execute_reply.started": "2022-02-05T11:20:03.655369Z"
    },
    "papermill": {
     "duration": 0.063019,
     "end_time": "2022-02-05T12:26:10.087973",
     "exception": false,
     "start_time": "2022-02-05T12:26:10.024954",
     "status": "completed"
    },
    "tags": []
   },
   "outputs": [],
   "source": [
    "#X_train"
   ]
  },
  {
   "cell_type": "code",
   "execution_count": 38,
   "id": "0513d12a",
   "metadata": {
    "execution": {
     "iopub.execute_input": "2022-02-05T12:26:10.208153Z",
     "iopub.status.busy": "2022-02-05T12:26:10.207315Z",
     "iopub.status.idle": "2022-02-05T12:26:10.339037Z",
     "shell.execute_reply": "2022-02-05T12:26:10.339603Z",
     "shell.execute_reply.started": "2022-02-05T12:24:24.885470Z"
    },
    "papermill": {
     "duration": 0.195473,
     "end_time": "2022-02-05T12:26:10.339885",
     "exception": false,
     "start_time": "2022-02-05T12:26:10.144412",
     "status": "completed"
    },
    "tags": []
   },
   "outputs": [
    {
     "name": "stderr",
     "output_type": "stream",
     "text": [
      "2022-02-05 12:26:10.221219: I tensorflow/compiler/jit/xla_cpu_device.cc:41] Not creating XLA devices, tf_xla_enable_xla_devices not set\n",
      "2022-02-05 12:26:10.224635: W tensorflow/stream_executor/platform/default/dso_loader.cc:60] Could not load dynamic library 'libcuda.so.1'; dlerror: libcuda.so.1: cannot open shared object file: No such file or directory; LD_LIBRARY_PATH: /opt/conda/lib\n",
      "2022-02-05 12:26:10.224682: W tensorflow/stream_executor/cuda/cuda_driver.cc:326] failed call to cuInit: UNKNOWN ERROR (303)\n",
      "2022-02-05 12:26:10.224744: I tensorflow/stream_executor/cuda/cuda_diagnostics.cc:156] kernel driver does not appear to be running on this host (705b47005bbc): /proc/driver/nvidia/version does not exist\n",
      "2022-02-05 12:26:10.225766: I tensorflow/core/platform/cpu_feature_guard.cc:142] This TensorFlow binary is optimized with oneAPI Deep Neural Network Library (oneDNN) to use the following CPU instructions in performance-critical operations:  AVX2 FMA\n",
      "To enable them in other operations, rebuild TensorFlow with the appropriate compiler flags.\n",
      "2022-02-05 12:26:10.226195: I tensorflow/compiler/jit/xla_gpu_device.cc:99] Not creating XLA devices, tf_xla_enable_xla_devices not set\n"
     ]
    }
   ],
   "source": [
    "model=Sequential()\n",
    "\n",
    "model.add(Dense(units=64,activation='relu',input_shape=(20,),kernel_initializer='lecun_normal'))\n",
    "#model.add(BatchNormalization())\n",
    "#model.add(Dropout(0.2))\n",
    "\n",
    "model.add(Dense(units=32,activation='relu'))\n",
    "#model.add(BatchNormalization())\n",
    "#model.add(Dropout(0.2))\n",
    "\n",
    "\n",
    "model.add(Dense(units=16,activation='relu'))\n",
    "#model.add(BatchNormalization())\n",
    "model.add(Dropout(0.2))\n",
    "\n",
    "\n",
    "\n",
    "model.add(Dense(units=1,activation='sigmoid'))"
   ]
  },
  {
   "cell_type": "code",
   "execution_count": 39,
   "id": "bf16e368",
   "metadata": {
    "execution": {
     "iopub.execute_input": "2022-02-05T12:26:10.461058Z",
     "iopub.status.busy": "2022-02-05T12:26:10.460311Z",
     "iopub.status.idle": "2022-02-05T12:26:10.481619Z",
     "shell.execute_reply": "2022-02-05T12:26:10.482274Z",
     "shell.execute_reply.started": "2022-02-05T12:24:25.928589Z"
    },
    "papermill": {
     "duration": 0.08443,
     "end_time": "2022-02-05T12:26:10.482490",
     "exception": false,
     "start_time": "2022-02-05T12:26:10.398060",
     "status": "completed"
    },
    "tags": []
   },
   "outputs": [],
   "source": [
    "output_dir=\"../\"\n",
    "checkpoint_filepath = \"cp-{epoch:04d}.ckpt\"\n",
    "model.compile(loss='binary_crossentropy',optimizer=Adam(learning_rate=0.001,beta_1=0.9,beta_2=0.999),metrics=['binary_accuracy'])\n",
    "early_stop=EarlyStopping(monitor='val_loss',patience=20)\n",
    "check_point=ModelCheckpoint(filepath=output_dir+checkpoint_filepath, save_weights_only=True,period=2)"
   ]
  },
  {
   "cell_type": "code",
   "execution_count": 40,
   "id": "a5d61e45",
   "metadata": {
    "execution": {
     "iopub.execute_input": "2022-02-05T12:26:10.604614Z",
     "iopub.status.busy": "2022-02-05T12:26:10.603833Z",
     "iopub.status.idle": "2022-02-05T12:26:14.370917Z",
     "shell.execute_reply": "2022-02-05T12:26:14.370286Z",
     "shell.execute_reply.started": "2022-02-05T12:24:27.496595Z"
    },
    "papermill": {
     "duration": 3.829446,
     "end_time": "2022-02-05T12:26:14.371098",
     "exception": false,
     "start_time": "2022-02-05T12:26:10.541652",
     "status": "completed"
    },
    "tags": []
   },
   "outputs": [
    {
     "name": "stderr",
     "output_type": "stream",
     "text": [
      "2022-02-05 12:26:10.685384: I tensorflow/compiler/mlir/mlir_graph_optimization_pass.cc:116] None of the MLIR optimization passes are enabled (registered 2)\n",
      "2022-02-05 12:26:10.700025: I tensorflow/core/platform/profile_utils/cpu_utils.cc:112] CPU Frequency: 2199995000 Hz\n"
     ]
    },
    {
     "name": "stdout",
     "output_type": "stream",
     "text": [
      "Epoch 1/20\n",
      "14/14 [==============================] - 1s 57ms/step - loss: 0.7144 - binary_accuracy: 0.4099 - val_loss: 0.6626 - val_binary_accuracy: 0.6973\n",
      "Epoch 2/20\n",
      "14/14 [==============================] - 0s 8ms/step - loss: 0.6600 - binary_accuracy: 0.6617 - val_loss: 0.6240 - val_binary_accuracy: 0.7354\n",
      "Epoch 3/20\n",
      "14/14 [==============================] - 0s 8ms/step - loss: 0.6336 - binary_accuracy: 0.6836 - val_loss: 0.5798 - val_binary_accuracy: 0.7758\n",
      "Epoch 4/20\n",
      "14/14 [==============================] - 0s 8ms/step - loss: 0.5682 - binary_accuracy: 0.7573 - val_loss: 0.5257 - val_binary_accuracy: 0.7937\n",
      "Epoch 5/20\n",
      "14/14 [==============================] - 0s 8ms/step - loss: 0.5175 - binary_accuracy: 0.7888 - val_loss: 0.4822 - val_binary_accuracy: 0.7982\n",
      "Epoch 6/20\n",
      "14/14 [==============================] - 0s 8ms/step - loss: 0.4636 - binary_accuracy: 0.8059 - val_loss: 0.4675 - val_binary_accuracy: 0.7960\n",
      "Epoch 7/20\n",
      "14/14 [==============================] - 0s 8ms/step - loss: 0.4280 - binary_accuracy: 0.8502 - val_loss: 0.4551 - val_binary_accuracy: 0.8004\n",
      "Epoch 8/20\n",
      "14/14 [==============================] - 0s 8ms/step - loss: 0.4689 - binary_accuracy: 0.7846 - val_loss: 0.4503 - val_binary_accuracy: 0.8072\n",
      "Epoch 9/20\n",
      "14/14 [==============================] - 0s 7ms/step - loss: 0.4137 - binary_accuracy: 0.8500 - val_loss: 0.4468 - val_binary_accuracy: 0.8049\n",
      "Epoch 10/20\n",
      "14/14 [==============================] - 0s 7ms/step - loss: 0.4293 - binary_accuracy: 0.8215 - val_loss: 0.4413 - val_binary_accuracy: 0.8139\n",
      "Epoch 11/20\n",
      "14/14 [==============================] - 0s 7ms/step - loss: 0.3708 - binary_accuracy: 0.8624 - val_loss: 0.4485 - val_binary_accuracy: 0.8094\n",
      "Epoch 12/20\n",
      "14/14 [==============================] - 0s 7ms/step - loss: 0.3880 - binary_accuracy: 0.8633 - val_loss: 0.4362 - val_binary_accuracy: 0.8117\n",
      "Epoch 13/20\n",
      "14/14 [==============================] - 0s 7ms/step - loss: 0.3749 - binary_accuracy: 0.8564 - val_loss: 0.4368 - val_binary_accuracy: 0.8184\n",
      "Epoch 14/20\n",
      "14/14 [==============================] - 0s 8ms/step - loss: 0.3934 - binary_accuracy: 0.8485 - val_loss: 0.4373 - val_binary_accuracy: 0.8184\n",
      "Epoch 15/20\n",
      "14/14 [==============================] - 0s 7ms/step - loss: 0.3750 - binary_accuracy: 0.8621 - val_loss: 0.4395 - val_binary_accuracy: 0.8206\n",
      "Epoch 16/20\n",
      "14/14 [==============================] - 0s 8ms/step - loss: 0.4002 - binary_accuracy: 0.8456 - val_loss: 0.4367 - val_binary_accuracy: 0.8206\n",
      "Epoch 17/20\n",
      "14/14 [==============================] - 0s 8ms/step - loss: 0.4154 - binary_accuracy: 0.8559 - val_loss: 0.4371 - val_binary_accuracy: 0.8206\n",
      "Epoch 18/20\n",
      "14/14 [==============================] - 0s 7ms/step - loss: 0.3934 - binary_accuracy: 0.8277 - val_loss: 0.4342 - val_binary_accuracy: 0.8206\n",
      "Epoch 19/20\n",
      "14/14 [==============================] - 0s 7ms/step - loss: 0.3659 - binary_accuracy: 0.8580 - val_loss: 0.4506 - val_binary_accuracy: 0.8206\n",
      "Epoch 20/20\n",
      "14/14 [==============================] - 0s 7ms/step - loss: 0.3726 - binary_accuracy: 0.8346 - val_loss: 0.4587 - val_binary_accuracy: 0.8139\n"
     ]
    }
   ],
   "source": [
    "history=model.fit(X_train,y_train,batch_size=32,epochs=20,validation_split=0.5,callbacks=[early_stop,check_point])"
   ]
  },
  {
   "cell_type": "code",
   "execution_count": 41,
   "id": "aea2588f",
   "metadata": {
    "execution": {
     "iopub.execute_input": "2022-02-05T12:26:14.515934Z",
     "iopub.status.busy": "2022-02-05T12:26:14.515224Z",
     "iopub.status.idle": "2022-02-05T12:26:14.809194Z",
     "shell.execute_reply": "2022-02-05T12:26:14.809672Z",
     "shell.execute_reply.started": "2022-02-05T12:24:32.183676Z"
    },
    "papermill": {
     "duration": 0.368256,
     "end_time": "2022-02-05T12:26:14.809894",
     "exception": false,
     "start_time": "2022-02-05T12:26:14.441638",
     "status": "completed"
    },
    "tags": []
   },
   "outputs": [
    {
     "data": {
      "text/plain": [
       "(array([0.45, 0.5 , 0.55, 0.6 , 0.65, 0.7 , 0.75, 0.8 , 0.85, 0.9 ]),\n",
       " [Text(0, 0, ''),\n",
       "  Text(0, 0, ''),\n",
       "  Text(0, 0, ''),\n",
       "  Text(0, 0, ''),\n",
       "  Text(0, 0, ''),\n",
       "  Text(0, 0, ''),\n",
       "  Text(0, 0, ''),\n",
       "  Text(0, 0, ''),\n",
       "  Text(0, 0, ''),\n",
       "  Text(0, 0, '')])"
      ]
     },
     "execution_count": 41,
     "metadata": {},
     "output_type": "execute_result"
    },
    {
     "data": {
      "image/png": "[encoded data removed]",
      "text/plain": [
       "<Figure size 720x576 with 1 Axes>"
      ]
     },
     "metadata": {
      "needs_background": "light"
     },
     "output_type": "display_data"
    }
   ],
   "source": [
    "plt.figure(figsize=(10,8))\n",
    "plt.plot(history.history['binary_accuracy'],label='train_acc')\n",
    "plt.plot(history.history['val_binary_accuracy'],label='val_acc')\n",
    "plt.legend(fontsize=18)\n",
    "plt.xlabel('Epochs',fontsize=18)\n",
    "plt.ylabel('Accuracy',fontsize=18)\n",
    "plt.xticks(fontsize=16)\n",
    "plt.yticks(fontsize=16)"
   ]
  },
  {
   "cell_type": "code",
   "execution_count": 42,
   "id": "a0623f10",
   "metadata": {
    "execution": {
     "iopub.execute_input": "2022-02-05T12:26:14.992107Z",
     "iopub.status.busy": "2022-02-05T12:26:14.981488Z",
     "iopub.status.idle": "2022-02-05T12:26:15.252442Z",
     "shell.execute_reply": "2022-02-05T12:26:15.251929Z",
     "shell.execute_reply.started": "2022-02-05T12:24:33.896303Z"
    },
    "papermill": {
     "duration": 0.369304,
     "end_time": "2022-02-05T12:26:15.252604",
     "exception": false,
     "start_time": "2022-02-05T12:26:14.883300",
     "status": "completed"
    },
    "tags": []
   },
   "outputs": [
    {
     "data": {
      "text/plain": [
       "(array([0.3 , 0.35, 0.4 , 0.45, 0.5 , 0.55, 0.6 , 0.65, 0.7 , 0.75]),\n",
       " [Text(0, 0, ''),\n",
       "  Text(0, 0, ''),\n",
       "  Text(0, 0, ''),\n",
       "  Text(0, 0, ''),\n",
       "  Text(0, 0, ''),\n",
       "  Text(0, 0, ''),\n",
       "  Text(0, 0, ''),\n",
       "  Text(0, 0, ''),\n",
       "  Text(0, 0, ''),\n",
       "  Text(0, 0, '')])"
      ]
     },
     "execution_count": 42,
     "metadata": {},
     "output_type": "execute_result"
    },
    {
     "data": {
      "image/png": "[encoded data removed]",
      "text/plain": [
       "<Figure size 720x576 with 1 Axes>"
      ]
     },
     "metadata": {
      "needs_background": "light"
     },
     "output_type": "display_data"
    }
   ],
   "source": [
    "plt.figure(figsize=(10,8))\n",
    "plt.plot(history.history['loss'],label='train_loss')\n",
    "plt.plot(history.history['val_loss'],label='val_loss')\n",
    "plt.legend(fontsize=18)\n",
    "plt.xlabel('Epochs',fontsize=18)\n",
    "plt.ylabel('Loss',fontsize=18)\n",
    "plt.xticks(fontsize=16)\n",
    "plt.yticks(fontsize=16)"
   ]
  },
  {
   "cell_type": "code",
   "execution_count": 43,
   "id": "06cab009",
   "metadata": {
    "execution": {
     "iopub.execute_input": "2022-02-05T12:26:15.404942Z",
     "iopub.status.busy": "2022-02-05T12:26:15.404120Z",
     "iopub.status.idle": "2022-02-05T12:26:15.554391Z",
     "shell.execute_reply": "2022-02-05T12:26:15.553632Z",
     "shell.execute_reply.started": "2022-02-05T12:24:37.659870Z"
    },
    "papermill": {
     "duration": 0.228709,
     "end_time": "2022-02-05T12:26:15.554551",
     "exception": false,
     "start_time": "2022-02-05T12:26:15.325842",
     "status": "completed"
    },
    "tags": []
   },
   "outputs": [
    {
     "name": "stderr",
     "output_type": "stream",
     "text": [
      "/opt/conda/lib/python3.7/site-packages/tensorflow/python/keras/engine/sequential.py:450: UserWarning: `model.predict_classes()` is deprecated and will be removed after 2021-01-01. Please use instead:* `np.argmax(model.predict(x), axis=-1)`,   if your model does multi-class classification   (e.g. if it uses a `softmax` last-layer activation).* `(model.predict(x) > 0.5).astype(\"int32\")`,   if your model does binary classification   (e.g. if it uses a `sigmoid` last-layer activation).\n",
      "  warnings.warn('`model.predict_classes()` is deprecated and '\n"
     ]
    },
    {
     "data": {
      "text/html": [
       "<div>\n",
       "<style scoped>\n",
       "    .dataframe tbody tr th:only-of-type {\n",
       "        vertical-align: middle;\n",
       "    }\n",
       "\n",
       "    .dataframe tbody tr th {\n",
       "        vertical-align: top;\n",
       "    }\n",
       "\n",
       "    .dataframe thead th {\n",
       "        text-align: right;\n",
       "    }\n",
       "</style>\n",
       "<table border=\"1\" class=\"dataframe\">\n",
       "  <thead>\n",
       "    <tr style=\"text-align: right;\">\n",
       "      <th></th>\n",
       "      <th>PassengerId</th>\n",
       "      <th>Survived</th>\n",
       "    </tr>\n",
       "  </thead>\n",
       "  <tbody>\n",
       "    <tr>\n",
       "      <th>0</th>\n",
       "      <td>892</td>\n",
       "      <td>0</td>\n",
       "    </tr>\n",
       "    <tr>\n",
       "      <th>1</th>\n",
       "      <td>893</td>\n",
       "      <td>1</td>\n",
       "    </tr>\n",
       "    <tr>\n",
       "      <th>2</th>\n",
       "      <td>894</td>\n",
       "      <td>0</td>\n",
       "    </tr>\n",
       "    <tr>\n",
       "      <th>3</th>\n",
       "      <td>895</td>\n",
       "      <td>0</td>\n",
       "    </tr>\n",
       "    <tr>\n",
       "      <th>4</th>\n",
       "      <td>896</td>\n",
       "      <td>0</td>\n",
       "    </tr>\n",
       "    <tr>\n",
       "      <th>...</th>\n",
       "      <td>...</td>\n",
       "      <td>...</td>\n",
       "    </tr>\n",
       "    <tr>\n",
       "      <th>95</th>\n",
       "      <td>987</td>\n",
       "      <td>0</td>\n",
       "    </tr>\n",
       "    <tr>\n",
       "      <th>96</th>\n",
       "      <td>988</td>\n",
       "      <td>1</td>\n",
       "    </tr>\n",
       "    <tr>\n",
       "      <th>97</th>\n",
       "      <td>989</td>\n",
       "      <td>0</td>\n",
       "    </tr>\n",
       "    <tr>\n",
       "      <th>98</th>\n",
       "      <td>990</td>\n",
       "      <td>0</td>\n",
       "    </tr>\n",
       "    <tr>\n",
       "      <th>99</th>\n",
       "      <td>991</td>\n",
       "      <td>0</td>\n",
       "    </tr>\n",
       "  </tbody>\n",
       "</table>\n",
       "<p>100 rows × 2 columns</p>\n",
       "</div>"
      ],
      "text/plain": [
       "    PassengerId  Survived\n",
       "0           892         0\n",
       "1           893         1\n",
       "2           894         0\n",
       "3           895         0\n",
       "4           896         0\n",
       "..          ...       ...\n",
       "95          987         0\n",
       "96          988         1\n",
       "97          989         0\n",
       "98          990         0\n",
       "99          991         0\n",
       "\n",
       "[100 rows x 2 columns]"
      ]
     },
     "execution_count": 43,
     "metadata": {},
     "output_type": "execute_result"
    }
   ],
   "source": [
    "predictions = model.predict_classes(X_test)\n",
    "ids = test_data['PassengerId'].copy()\n",
    "output = ids.to_frame()\n",
    "output[\"Survived\"]=predictions\n",
    "output.head(100)"
   ]
  },
  {
   "cell_type": "code",
   "execution_count": 44,
   "id": "c04eec55",
   "metadata": {
    "execution": {
     "iopub.execute_input": "2022-02-05T12:26:15.706569Z",
     "iopub.status.busy": "2022-02-05T12:26:15.705599Z",
     "iopub.status.idle": "2022-02-05T12:26:15.717472Z",
     "shell.execute_reply": "2022-02-05T12:26:15.716881Z",
     "shell.execute_reply.started": "2022-02-05T12:24:44.441920Z"
    },
    "papermill": {
     "duration": 0.08938,
     "end_time": "2022-02-05T12:26:15.717631",
     "exception": false,
     "start_time": "2022-02-05T12:26:15.628251",
     "status": "completed"
    },
    "tags": []
   },
   "outputs": [
    {
     "name": "stdout",
     "output_type": "stream",
     "text": [
      "Yes\n"
     ]
    }
   ],
   "source": [
    "output.to_csv(\"submission.csv\",index=False)\n",
    "print(\"Yes\")"
   ]
  },
  {
   "cell_type": "code",
   "execution_count": null,
   "id": "9381ede2",
   "metadata": {
    "papermill": {
     "duration": 0.073992,
     "end_time": "2022-02-05T12:26:15.867578",
     "exception": false,
     "start_time": "2022-02-05T12:26:15.793586",
     "status": "completed"
    },
    "tags": []
   },
   "outputs": [],
   "source": []
  }
 ],
 "metadata": {
  "kernelspec": {
   "display_name": "Python 3",
   "language": "python",
   "name": "python3"
  },
  "language_info": {
   "codemirror_mode": {
    "name": "ipython",
    "version": 3
   },
   "file_extension": ".py",
   "mimetype": "text/x-python",
   "name": "python",
   "nbconvert_exporter": "python",
   "pygments_lexer": "ipython3",
   "version": "3.7.10"
  },
  "papermill": {
   "default_parameters": {},
   "duration": 38.908331,
   "end_time": "2022-02-05T12:26:19.321383",
   "environment_variables": {},
   "exception": null,
   "input_path": "__notebook__.ipynb",
   "output_path": "__notebook__.ipynb",
   "parameters": {},
   "start_time": "2022-02-05T12:25:40.413052",
   "version": "2.3.3"
  }
 },
 "nbformat": 4,
 "nbformat_minor": 5
}
