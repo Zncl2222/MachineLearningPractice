{
 "cells": [
  {
   "cell_type": "code",
   "execution_count": 1,
   "id": "45e96608",
   "metadata": {
    "execution": {
     "iopub.execute_input": "2022-02-05T03:07:45.449770Z",
     "iopub.status.busy": "2022-02-05T03:07:45.447992Z",
     "iopub.status.idle": "2022-02-05T03:07:49.792146Z",
     "shell.execute_reply": "2022-02-05T03:07:49.792652Z",
     "shell.execute_reply.started": "2022-02-05T03:03:33.385405Z"
    },
    "papermill": {
     "duration": 4.438197,
     "end_time": "2022-02-05T03:07:49.792939",
     "exception": false,
     "start_time": "2022-02-05T03:07:45.354742",
     "status": "completed"
    },
    "tags": []
   },
   "outputs": [
    {
     "name": "stderr",
     "output_type": "stream",
     "text": [
      "2022-02-05 03:07:45.954686: I tensorflow/stream_executor/platform/default/dso_loader.cc:49] Successfully opened dynamic library libcudart.so.11.0\n"
     ]
    }
   ],
   "source": [
    "import numpy as np\n",
    "import pandas as pd\n",
    "import matplotlib.pyplot as plt\n",
    "import tensorflow as tf\n",
    "from tensorflow.keras.layers import Conv2D,Dense,Dropout,MaxPool2D,Flatten,BatchNormalization\n",
    "from tensorflow.keras.models import Sequential\n",
    "from tensorflow.keras.optimizers import Adam\n",
    "from tensorflow.keras.utils import to_categorical\n",
    "from tensorflow.keras.callbacks import EarlyStopping"
   ]
  },
  {
   "cell_type": "code",
   "execution_count": 2,
   "id": "57b6d732",
   "metadata": {
    "execution": {
     "iopub.execute_input": "2022-02-05T03:07:49.823623Z",
     "iopub.status.busy": "2022-02-05T03:07:49.822936Z",
     "iopub.status.idle": "2022-02-05T03:07:49.829369Z",
     "shell.execute_reply": "2022-02-05T03:07:49.828939Z",
     "shell.execute_reply.started": "2022-02-05T00:44:08.875717Z"
    },
    "papermill": {
     "duration": 0.023853,
     "end_time": "2022-02-05T03:07:49.829509",
     "exception": false,
     "start_time": "2022-02-05T03:07:49.805656",
     "status": "completed"
    },
    "tags": []
   },
   "outputs": [],
   "source": [
    "try:\n",
    "  tpu = tf.distribute.cluster_resolver.TPUClusterResolver()\n",
    "except ValueError:\n",
    "  tpu = None\n",
    "\n",
    "# TPUStrategy for distributed training\n",
    "if tpu:\n",
    "  tf.config.experimental_connect_to_cluster(tpu)\n",
    "  tf.tpu.experimental.initialize_tpu_system(tpu)\n",
    "  strategy = tf.distribute.experimental.TPUStrategy(tpu)\n",
    "else: # default strategy that works on CPU and single GPU\n",
    "  strategy = tf.distribute.get_strategy()"
   ]
  },
  {
   "cell_type": "code",
   "execution_count": 3,
   "id": "e9d4ffc7",
   "metadata": {
    "execution": {
     "iopub.execute_input": "2022-02-05T03:07:49.856778Z",
     "iopub.status.busy": "2022-02-05T03:07:49.856277Z",
     "iopub.status.idle": "2022-02-05T03:07:56.209732Z",
     "shell.execute_reply": "2022-02-05T03:07:56.208777Z",
     "shell.execute_reply.started": "2022-02-05T03:01:21.975585Z"
    },
    "papermill": {
     "duration": 6.368537,
     "end_time": "2022-02-05T03:07:56.209875",
     "exception": false,
     "start_time": "2022-02-05T03:07:49.841338",
     "status": "completed"
    },
    "tags": []
   },
   "outputs": [],
   "source": [
    "train_data=pd.read_csv(r\"../input/fashionmnist/fashion-mnist_train.csv\")\n",
    "test_data=pd.read_csv(r\"../input/fashionmnist/fashion-mnist_test.csv\")"
   ]
  },
  {
   "cell_type": "code",
   "execution_count": 4,
   "id": "88cf1632",
   "metadata": {
    "execution": {
     "iopub.execute_input": "2022-02-05T03:07:56.240222Z",
     "iopub.status.busy": "2022-02-05T03:07:56.239279Z",
     "iopub.status.idle": "2022-02-05T03:07:56.242752Z",
     "shell.execute_reply": "2022-02-05T03:07:56.243377Z",
     "shell.execute_reply.started": "2022-02-05T03:01:37.056069Z"
    },
    "papermill": {
     "duration": 0.021156,
     "end_time": "2022-02-05T03:07:56.243555",
     "exception": false,
     "start_time": "2022-02-05T03:07:56.222399",
     "status": "completed"
    },
    "tags": []
   },
   "outputs": [
    {
     "name": "stdout",
     "output_type": "stream",
     "text": [
      "(60000, 785)\n",
      "(10000, 785)\n",
      "<class 'pandas.core.frame.DataFrame'>\n",
      "<class 'pandas.core.frame.DataFrame'>\n"
     ]
    }
   ],
   "source": [
    "print(train_data.shape)\n",
    "print(test_data.shape)\n",
    "print(type(train_data))\n",
    "print(type(test_data))"
   ]
  },
  {
   "cell_type": "code",
   "execution_count": 5,
   "id": "6822107b",
   "metadata": {
    "execution": {
     "iopub.execute_input": "2022-02-05T03:07:56.392347Z",
     "iopub.status.busy": "2022-02-05T03:07:56.391443Z",
     "iopub.status.idle": "2022-02-05T03:07:56.416457Z",
     "shell.execute_reply": "2022-02-05T03:07:56.415544Z",
     "shell.execute_reply.started": "2022-02-05T03:01:38.048091Z"
    },
    "papermill": {
     "duration": 0.159833,
     "end_time": "2022-02-05T03:07:56.416604",
     "exception": false,
     "start_time": "2022-02-05T03:07:56.256771",
     "status": "completed"
    },
    "tags": []
   },
   "outputs": [],
   "source": [
    "X_train=train_data.drop(['label'],axis=1)\n",
    "y_train=train_data['label']\n",
    "\n",
    "X_test=test_data.drop(['label'],axis=1)\n",
    "y_test=test_data['label']"
   ]
  },
  {
   "cell_type": "code",
   "execution_count": 6,
   "id": "2a6bb3fa",
   "metadata": {
    "execution": {
     "iopub.execute_input": "2022-02-05T03:07:56.448593Z",
     "iopub.status.busy": "2022-02-05T03:07:56.447980Z",
     "iopub.status.idle": "2022-02-05T03:07:56.451155Z",
     "shell.execute_reply": "2022-02-05T03:07:56.451835Z",
     "shell.execute_reply.started": "2022-02-05T03:01:39.564500Z"
    },
    "papermill": {
     "duration": 0.022782,
     "end_time": "2022-02-05T03:07:56.452010",
     "exception": false,
     "start_time": "2022-02-05T03:07:56.429228",
     "status": "completed"
    },
    "tags": []
   },
   "outputs": [
    {
     "name": "stdout",
     "output_type": "stream",
     "text": [
      "[  0   0   0   0   0   0   0   0   0   0   0   0   0   0   0   0   0   0\n",
      "   0   0   0   0   0   0   0   0   0   0   0   0   0   0   0   0   0   0\n",
      "   0   0   0   0   0   0   0   0   0   0   0   0   0   0   0   0   0   0\n",
      "   0   0   0   0   0   0   0   0   0   0   0   0   0   0   0   0   0   0\n",
      "   0   0   0   0   0   0   0   0   0   0   0   0   0   0   0   0   4   0\n",
      "   0   0   0   0  62  61  21  29  23  51 136  61   0   0   0   0   0   0\n",
      "   0   0   0   0   0   0   0   0   0   0   0  88 201 228 225 255 115  62\n",
      " 137 255 235 222 255 135   0   0   0   0   0   0   0   0   0   0   0   0\n",
      "   0  47 252 234 238 224 215 215 229 108 180 207 214 224 231 249 254  45\n",
      "   0   0   0   0   0   0   0   0   1   0   0 214 222 210 213 224 225 217\n",
      " 220 254 233 219 221 217 223 221 240 254   0   0   1   0   0   0   1   0\n",
      "   0   0 128 237 207 224 224 207 216 214 210 208 211 221 208 219 213 226\n",
      " 211 237 150   0   0   0   0   0   0   2   0   0 237 222 215 207 210 212\n",
      " 213 206 214 213 214 213 210 215 214 206 199 218 255  13   0   2   0   0\n",
      "   0   4   0  85 228 210 218 200 211 208 203 215 210 209 209 210 213 211\n",
      " 210 217 206 213 231 175   0   0   0   0   0   0   0 217 224 215 206 205\n",
      " 204 217 230 222 215 224 233 228 232 228 224 207 212 215 213 229  31   0\n",
      "   4   0   1   0  21 225 212 212 203 211 225 193 139 136 195 147 156 139\n",
      " 128 162 197 223 207 220 213 232 177   0   0   0   0   0 123 226 207 211\n",
      " 209 205 228 158  90 103 186 138 100 121 147 158 183 226 208 214 209 216\n",
      " 255  13   0   1   0   0 226 219 202 208 206 205 216 184 156 150 193 170\n",
      " 164 168 188 186 200 219 216 213 213 211 233 148   0   0   0  45 227 204\n",
      " 214 211 218 222 221 230 229 221 213 224 233 226 220 219 221 224 223 217\n",
      " 210 218 213 254   0   0   0 157 226 203 207 211 209 215 205 198 207 208\n",
      " 201 201 197 203 205 210 207 213 214 214 214 213 208 234 107   0   0 235\n",
      " 213 204 211 210 209 213 202 197 204 215 217 213 212 210 206 212 203 211\n",
      " 218 215 214 208 209 222 230   0  52 255 207 200 208 213 210 210 208 207\n",
      " 202 201 209 216 216 216 216 214 212 205 215 201 228 208 214 212 218  25\n",
      " 118 217 201 206 208 213 208 205 206 210 211 202 199 207 208 209 210 207\n",
      " 210 210 245 139 119 255 202 203 236 114 171 238 212 203 220 216 217 209\n",
      " 207 205 210 211 206 204 206 209 211 215 210 206 221 242   0 224 234 230\n",
      " 181  26  39 145 201 255 157 115 250 200 207 206 207 213 216 206 205 206\n",
      " 207 206 215 207 221 238   0   0 188  85   0   0   0   0   0  31   0 129\n",
      " 253 190 207 208 208 208 209 211 211 209 209 209 212 201 226 165   0   0\n",
      "   0   0   0   0   2   0   0   0   0  89 254 199 199 192 196 198 199 201\n",
      " 202 203 204 203 203 200 222 155   0   3   3   3   2   0   0   0   1   5\n",
      "   0   0 255 218 226 232 228 224 222 220 219 219 217 221 220 212 236  95\n",
      "   0   2   0   0   0   0   0   0   0   0   0   0 155 194 168 170 171 173\n",
      " 173 179 177 175 172 171 167 161 180   0   0   1   0   1   0   0   0   0\n",
      "   0   0   0   0   0   0   0   0   0   0   0   0   0   0   0   0   0   0\n",
      "   0   0   0   0   0   0   0   0   0   0   0   0   0   0   0   0   0   0\n",
      "   0   0   0   0   0   0   0   0   0   0   0   0   0   0   0   0   0   0\n",
      "   0   0   0   0   0   0   0   0   0   0   0   0   0   0   0   0   0   0\n",
      "   0   0   0   0   0   0   0   0   0   0]\n"
     ]
    }
   ],
   "source": [
    "X_train=np.asarray(X_train)\n",
    "y_train=np.asarray(y_train)\n",
    "\n",
    "X_test=np.asarray(X_test)\n",
    "y_test=np.asarray(y_test)\n",
    "\n",
    "print(X_train[0])"
   ]
  },
  {
   "cell_type": "code",
   "execution_count": 7,
   "id": "dfef1420",
   "metadata": {
    "execution": {
     "iopub.execute_input": "2022-02-05T03:07:56.498850Z",
     "iopub.status.busy": "2022-02-05T03:07:56.485288Z",
     "iopub.status.idle": "2022-02-05T03:07:57.428287Z",
     "shell.execute_reply": "2022-02-05T03:07:57.427546Z",
     "shell.execute_reply.started": "2022-02-05T03:01:41.254626Z"
    },
    "papermill": {
     "duration": 0.962145,
     "end_time": "2022-02-05T03:07:57.428455",
     "exception": false,
     "start_time": "2022-02-05T03:07:56.466310",
     "status": "completed"
    },
    "tags": []
   },
   "outputs": [
    {
     "data": {
      "image/png": "[encoded data removed]",
      "text/plain": [
       "<Figure size 2160x2160 with 10 Axes>"
      ]
     },
     "metadata": {
      "needs_background": "light"
     },
     "output_type": "display_data"
    },
    {
     "name": "stdout",
     "output_type": "stream",
     "text": [
      "[2 9 6 0 3 4 4 5 4 8]\n"
     ]
    }
   ],
   "source": [
    "train_images=X_train.reshape(60000,28,28,1)\n",
    "test_images=X_test.reshape(10000,28,28,1)\n",
    "\n",
    "for i in range(10):\n",
    "    plt.figure(num=1,figsize=(30,30))\n",
    "    plt.subplot(2,10,i+1)\n",
    "    plt.imshow(train_images[i],'gray')\n",
    "plt.show()\n",
    "\n",
    "print(y_train[0:10])\n"
   ]
  },
  {
   "cell_type": "code",
   "execution_count": 8,
   "id": "415485f6",
   "metadata": {
    "execution": {
     "iopub.execute_input": "2022-02-05T03:07:57.463567Z",
     "iopub.status.busy": "2022-02-05T03:07:57.462655Z",
     "iopub.status.idle": "2022-02-05T03:07:57.634920Z",
     "shell.execute_reply": "2022-02-05T03:07:57.634415Z",
     "shell.execute_reply.started": "2022-02-05T03:01:44.179867Z"
    },
    "papermill": {
     "duration": 0.190093,
     "end_time": "2022-02-05T03:07:57.635042",
     "exception": false,
     "start_time": "2022-02-05T03:07:57.444949",
     "status": "completed"
    },
    "tags": []
   },
   "outputs": [],
   "source": [
    "train_images=train_images/255\n",
    "test_images=test_images/255\n",
    "\n",
    "train_labels=to_categorical(y_train,10)\n",
    "test_labels=to_categorical(y_test,10)\n"
   ]
  },
  {
   "cell_type": "code",
   "execution_count": 9,
   "id": "df382051",
   "metadata": {
    "execution": {
     "iopub.execute_input": "2022-02-05T03:07:57.668839Z",
     "iopub.status.busy": "2022-02-05T03:07:57.667257Z",
     "iopub.status.idle": "2022-02-05T03:07:57.671440Z",
     "shell.execute_reply": "2022-02-05T03:07:57.670682Z",
     "shell.execute_reply.started": "2022-02-05T03:01:47.038995Z"
    },
    "papermill": {
     "duration": 0.022653,
     "end_time": "2022-02-05T03:07:57.671589",
     "exception": false,
     "start_time": "2022-02-05T03:07:57.648936",
     "status": "completed"
    },
    "tags": []
   },
   "outputs": [
    {
     "name": "stdout",
     "output_type": "stream",
     "text": [
      "(60000, 28, 28, 1)\n",
      "(60000, 10)\n"
     ]
    }
   ],
   "source": [
    "print(train_images.shape)\n",
    "print(train_labels.shape)"
   ]
  },
  {
   "cell_type": "code",
   "execution_count": 10,
   "id": "f28f55f2",
   "metadata": {
    "execution": {
     "iopub.execute_input": "2022-02-05T03:07:57.709019Z",
     "iopub.status.busy": "2022-02-05T03:07:57.708519Z",
     "iopub.status.idle": "2022-02-05T03:07:59.823367Z",
     "shell.execute_reply": "2022-02-05T03:07:59.822866Z",
     "shell.execute_reply.started": "2022-02-05T03:03:38.423583Z"
    },
    "papermill": {
     "duration": 2.136369,
     "end_time": "2022-02-05T03:07:59.823498",
     "exception": false,
     "start_time": "2022-02-05T03:07:57.687129",
     "status": "completed"
    },
    "tags": []
   },
   "outputs": [
    {
     "name": "stderr",
     "output_type": "stream",
     "text": [
      "2022-02-05 03:07:57.714736: I tensorflow/compiler/jit/xla_cpu_device.cc:41] Not creating XLA devices, tf_xla_enable_xla_devices not set\n",
      "2022-02-05 03:07:57.718213: I tensorflow/stream_executor/platform/default/dso_loader.cc:49] Successfully opened dynamic library libcuda.so.1\n",
      "2022-02-05 03:07:57.843132: I tensorflow/stream_executor/cuda/cuda_gpu_executor.cc:941] successful NUMA node read from SysFS had negative value (-1), but there must be at least one NUMA node, so returning NUMA node zero\n",
      "2022-02-05 03:07:57.843795: I tensorflow/core/common_runtime/gpu/gpu_device.cc:1720] Found device 0 with properties: \n",
      "pciBusID: 0000:00:04.0 name: Tesla P100-PCIE-16GB computeCapability: 6.0\n",
      "coreClock: 1.3285GHz coreCount: 56 deviceMemorySize: 15.90GiB deviceMemoryBandwidth: 681.88GiB/s\n",
      "2022-02-05 03:07:57.843853: I tensorflow/stream_executor/platform/default/dso_loader.cc:49] Successfully opened dynamic library libcudart.so.11.0\n",
      "2022-02-05 03:07:57.872320: I tensorflow/stream_executor/platform/default/dso_loader.cc:49] Successfully opened dynamic library libcublas.so.11\n",
      "2022-02-05 03:07:57.872408: I tensorflow/stream_executor/platform/default/dso_loader.cc:49] Successfully opened dynamic library libcublasLt.so.11\n",
      "2022-02-05 03:07:57.888407: I tensorflow/stream_executor/platform/default/dso_loader.cc:49] Successfully opened dynamic library libcufft.so.10\n",
      "2022-02-05 03:07:57.913926: I tensorflow/stream_executor/platform/default/dso_loader.cc:49] Successfully opened dynamic library libcurand.so.10\n",
      "2022-02-05 03:07:57.939715: I tensorflow/stream_executor/platform/default/dso_loader.cc:49] Successfully opened dynamic library libcusolver.so.10\n",
      "2022-02-05 03:07:57.948657: I tensorflow/stream_executor/platform/default/dso_loader.cc:49] Successfully opened dynamic library libcusparse.so.11\n",
      "2022-02-05 03:07:57.952776: I tensorflow/stream_executor/platform/default/dso_loader.cc:49] Successfully opened dynamic library libcudnn.so.8\n",
      "2022-02-05 03:07:57.952935: I tensorflow/stream_executor/cuda/cuda_gpu_executor.cc:941] successful NUMA node read from SysFS had negative value (-1), but there must be at least one NUMA node, so returning NUMA node zero\n",
      "2022-02-05 03:07:57.953604: I tensorflow/stream_executor/cuda/cuda_gpu_executor.cc:941] successful NUMA node read from SysFS had negative value (-1), but there must be at least one NUMA node, so returning NUMA node zero\n",
      "2022-02-05 03:07:57.955262: I tensorflow/core/common_runtime/gpu/gpu_device.cc:1862] Adding visible gpu devices: 0\n",
      "2022-02-05 03:07:57.956720: I tensorflow/core/platform/cpu_feature_guard.cc:142] This TensorFlow binary is optimized with oneAPI Deep Neural Network Library (oneDNN) to use the following CPU instructions in performance-critical operations:  AVX2 AVX512F FMA\n",
      "To enable them in other operations, rebuild TensorFlow with the appropriate compiler flags.\n",
      "2022-02-05 03:07:57.956955: I tensorflow/compiler/jit/xla_gpu_device.cc:99] Not creating XLA devices, tf_xla_enable_xla_devices not set\n",
      "2022-02-05 03:07:57.957132: I tensorflow/stream_executor/cuda/cuda_gpu_executor.cc:941] successful NUMA node read from SysFS had negative value (-1), but there must be at least one NUMA node, so returning NUMA node zero\n",
      "2022-02-05 03:07:57.957941: I tensorflow/core/common_runtime/gpu/gpu_device.cc:1720] Found device 0 with properties: \n",
      "pciBusID: 0000:00:04.0 name: Tesla P100-PCIE-16GB computeCapability: 6.0\n",
      "coreClock: 1.3285GHz coreCount: 56 deviceMemorySize: 15.90GiB deviceMemoryBandwidth: 681.88GiB/s\n",
      "2022-02-05 03:07:57.957995: I tensorflow/stream_executor/platform/default/dso_loader.cc:49] Successfully opened dynamic library libcudart.so.11.0\n",
      "2022-02-05 03:07:57.958050: I tensorflow/stream_executor/platform/default/dso_loader.cc:49] Successfully opened dynamic library libcublas.so.11\n",
      "2022-02-05 03:07:57.958078: I tensorflow/stream_executor/platform/default/dso_loader.cc:49] Successfully opened dynamic library libcublasLt.so.11\n",
      "2022-02-05 03:07:57.958120: I tensorflow/stream_executor/platform/default/dso_loader.cc:49] Successfully opened dynamic library libcufft.so.10\n",
      "2022-02-05 03:07:57.958143: I tensorflow/stream_executor/platform/default/dso_loader.cc:49] Successfully opened dynamic library libcurand.so.10\n",
      "2022-02-05 03:07:57.958165: I tensorflow/stream_executor/platform/default/dso_loader.cc:49] Successfully opened dynamic library libcusolver.so.10\n",
      "2022-02-05 03:07:57.958205: I tensorflow/stream_executor/platform/default/dso_loader.cc:49] Successfully opened dynamic library libcusparse.so.11\n",
      "2022-02-05 03:07:57.958237: I tensorflow/stream_executor/platform/default/dso_loader.cc:49] Successfully opened dynamic library libcudnn.so.8\n",
      "2022-02-05 03:07:57.958352: I tensorflow/stream_executor/cuda/cuda_gpu_executor.cc:941] successful NUMA node read from SysFS had negative value (-1), but there must be at least one NUMA node, so returning NUMA node zero\n",
      "2022-02-05 03:07:57.959429: I tensorflow/stream_executor/cuda/cuda_gpu_executor.cc:941] successful NUMA node read from SysFS had negative value (-1), but there must be at least one NUMA node, so returning NUMA node zero\n",
      "2022-02-05 03:07:57.960349: I tensorflow/core/common_runtime/gpu/gpu_device.cc:1862] Adding visible gpu devices: 0\n",
      "2022-02-05 03:07:57.964366: I tensorflow/stream_executor/platform/default/dso_loader.cc:49] Successfully opened dynamic library libcudart.so.11.0\n",
      "2022-02-05 03:07:59.410749: I tensorflow/core/common_runtime/gpu/gpu_device.cc:1261] Device interconnect StreamExecutor with strength 1 edge matrix:\n",
      "2022-02-05 03:07:59.410807: I tensorflow/core/common_runtime/gpu/gpu_device.cc:1267]      0 \n",
      "2022-02-05 03:07:59.410820: I tensorflow/core/common_runtime/gpu/gpu_device.cc:1280] 0:   N \n",
      "2022-02-05 03:07:59.413305: I tensorflow/stream_executor/cuda/cuda_gpu_executor.cc:941] successful NUMA node read from SysFS had negative value (-1), but there must be at least one NUMA node, so returning NUMA node zero\n",
      "2022-02-05 03:07:59.414063: I tensorflow/stream_executor/cuda/cuda_gpu_executor.cc:941] successful NUMA node read from SysFS had negative value (-1), but there must be at least one NUMA node, so returning NUMA node zero\n",
      "2022-02-05 03:07:59.414728: I tensorflow/stream_executor/cuda/cuda_gpu_executor.cc:941] successful NUMA node read from SysFS had negative value (-1), but there must be at least one NUMA node, so returning NUMA node zero\n",
      "2022-02-05 03:07:59.415345: I tensorflow/core/common_runtime/gpu/gpu_device.cc:1406] Created TensorFlow device (/job:localhost/replica:0/task:0/device:GPU:0 with 14957 MB memory) -> physical GPU (device: 0, name: Tesla P100-PCIE-16GB, pci bus id: 0000:00:04.0, compute capability: 6.0)\n"
     ]
    }
   ],
   "source": [
    "model=Sequential()\n",
    "\n",
    "model.add(Conv2D(64,(3,3),activation='relu',padding='same',input_shape=(28,28,1)))\n",
    "model.add(Conv2D(32,(3,3),activation='relu',padding='same'))\n",
    "model.add(MaxPool2D(pool_size=(2,2)))\n",
    "model.add(Dropout(0.2))\n",
    "\n",
    "model.add(Conv2D(32,(3,3),activation='relu',padding='same'))\n",
    "model.add(Conv2D(32,(3,3),activation='relu',padding='same'))\n",
    "model.add(MaxPool2D(pool_size=(2,2)))\n",
    "model.add(Dropout(0.2))\n",
    "\n",
    "\n",
    "model.add(Flatten())\n",
    "model.add(Dense(512,activation='relu'))\n",
    "model.add(Dropout(0.4))\n",
    "\n",
    "\n",
    "model.add(Dense(10,activation='softmax'))\n"
   ]
  },
  {
   "cell_type": "code",
   "execution_count": 11,
   "id": "d4b72239",
   "metadata": {
    "execution": {
     "iopub.execute_input": "2022-02-05T03:07:59.863554Z",
     "iopub.status.busy": "2022-02-05T03:07:59.855432Z",
     "iopub.status.idle": "2022-02-05T03:07:59.869085Z",
     "shell.execute_reply": "2022-02-05T03:07:59.868661Z",
     "shell.execute_reply.started": "2022-02-05T03:03:39.929029Z"
    },
    "papermill": {
     "duration": 0.030968,
     "end_time": "2022-02-05T03:07:59.869222",
     "exception": false,
     "start_time": "2022-02-05T03:07:59.838254",
     "status": "completed"
    },
    "tags": []
   },
   "outputs": [],
   "source": [
    "model.compile(loss='categorical_crossentropy',optimizer='adam',metrics=['acc'])\n",
    "early_stop=EarlyStopping(monitor='val_loss',patience=10)"
   ]
  },
  {
   "cell_type": "code",
   "execution_count": 12,
   "id": "214a53ed",
   "metadata": {
    "execution": {
     "iopub.execute_input": "2022-02-05T03:07:59.904369Z",
     "iopub.status.busy": "2022-02-05T03:07:59.903751Z",
     "iopub.status.idle": "2022-02-05T03:08:55.888220Z",
     "shell.execute_reply": "2022-02-05T03:08:55.888755Z",
     "shell.execute_reply.started": "2022-02-05T03:03:52.337380Z"
    },
    "papermill": {
     "duration": 56.004864,
     "end_time": "2022-02-05T03:08:55.888927",
     "exception": false,
     "start_time": "2022-02-05T03:07:59.884063",
     "status": "completed"
    },
    "tags": []
   },
   "outputs": [
    {
     "name": "stderr",
     "output_type": "stream",
     "text": [
      "2022-02-05 03:08:00.184663: I tensorflow/compiler/mlir/mlir_graph_optimization_pass.cc:116] None of the MLIR optimization passes are enabled (registered 2)\n",
      "2022-02-05 03:08:00.196592: I tensorflow/core/platform/profile_utils/cpu_utils.cc:112] CPU Frequency: 2000165000 Hz\n"
     ]
    },
    {
     "name": "stdout",
     "output_type": "stream",
     "text": [
      "Epoch 1/50\n"
     ]
    },
    {
     "name": "stderr",
     "output_type": "stream",
     "text": [
      "2022-02-05 03:08:01.223481: I tensorflow/stream_executor/platform/default/dso_loader.cc:49] Successfully opened dynamic library libcublas.so.11\n",
      "2022-02-05 03:08:02.091916: I tensorflow/stream_executor/platform/default/dso_loader.cc:49] Successfully opened dynamic library libcublasLt.so.11\n",
      "2022-02-05 03:08:02.103544: I tensorflow/stream_executor/platform/default/dso_loader.cc:49] Successfully opened dynamic library libcudnn.so.8\n"
     ]
    },
    {
     "name": "stdout",
     "output_type": "stream",
     "text": [
      "375/375 [==============================] - 11s 9ms/step - loss: 0.8400 - acc: 0.6937 - val_loss: 0.3514 - val_acc: 0.8772\n",
      "Epoch 2/50\n",
      "375/375 [==============================] - 3s 7ms/step - loss: 0.3557 - acc: 0.8688 - val_loss: 0.2830 - val_acc: 0.8984\n",
      "Epoch 3/50\n",
      "375/375 [==============================] - 3s 7ms/step - loss: 0.2916 - acc: 0.8926 - val_loss: 0.2482 - val_acc: 0.9114\n",
      "Epoch 4/50\n",
      "375/375 [==============================] - 3s 7ms/step - loss: 0.2504 - acc: 0.9076 - val_loss: 0.2334 - val_acc: 0.9146\n",
      "Epoch 5/50\n",
      "375/375 [==============================] - 3s 7ms/step - loss: 0.2258 - acc: 0.9149 - val_loss: 0.2167 - val_acc: 0.9227\n",
      "Epoch 6/50\n",
      "375/375 [==============================] - 3s 7ms/step - loss: 0.2137 - acc: 0.9200 - val_loss: 0.2122 - val_acc: 0.9242\n",
      "Epoch 7/50\n",
      "375/375 [==============================] - 3s 7ms/step - loss: 0.1988 - acc: 0.9266 - val_loss: 0.2002 - val_acc: 0.9280\n",
      "Epoch 8/50\n",
      "375/375 [==============================] - 3s 7ms/step - loss: 0.1815 - acc: 0.9332 - val_loss: 0.1951 - val_acc: 0.9313\n",
      "Epoch 9/50\n",
      "375/375 [==============================] - 3s 7ms/step - loss: 0.1770 - acc: 0.9339 - val_loss: 0.1980 - val_acc: 0.9301\n",
      "Epoch 10/50\n",
      "375/375 [==============================] - 3s 7ms/step - loss: 0.1618 - acc: 0.9411 - val_loss: 0.1955 - val_acc: 0.9310\n",
      "Epoch 11/50\n",
      "375/375 [==============================] - 3s 7ms/step - loss: 0.1517 - acc: 0.9428 - val_loss: 0.2046 - val_acc: 0.9293\n",
      "Epoch 12/50\n",
      "375/375 [==============================] - 3s 7ms/step - loss: 0.1448 - acc: 0.9448 - val_loss: 0.2029 - val_acc: 0.9283\n",
      "Epoch 13/50\n",
      "375/375 [==============================] - 3s 7ms/step - loss: 0.1341 - acc: 0.9490 - val_loss: 0.1961 - val_acc: 0.9323\n",
      "Epoch 14/50\n",
      "375/375 [==============================] - 3s 7ms/step - loss: 0.1250 - acc: 0.9519 - val_loss: 0.2030 - val_acc: 0.9297\n",
      "Epoch 15/50\n",
      "375/375 [==============================] - 3s 7ms/step - loss: 0.1230 - acc: 0.9520 - val_loss: 0.2028 - val_acc: 0.9331\n",
      "Epoch 16/50\n",
      "375/375 [==============================] - 3s 7ms/step - loss: 0.1133 - acc: 0.9575 - val_loss: 0.2035 - val_acc: 0.9331\n",
      "Epoch 17/50\n",
      "375/375 [==============================] - 3s 7ms/step - loss: 0.1036 - acc: 0.9605 - val_loss: 0.2062 - val_acc: 0.9330\n",
      "Epoch 18/50\n",
      "375/375 [==============================] - 3s 7ms/step - loss: 0.1028 - acc: 0.9615 - val_loss: 0.2037 - val_acc: 0.9329\n"
     ]
    }
   ],
   "source": [
    "history=model.fit(train_images,train_labels,epochs=50,batch_size=128,validation_split=0.2,callbacks=[early_stop])"
   ]
  },
  {
   "cell_type": "code",
   "execution_count": 13,
   "id": "7eee0a13",
   "metadata": {
    "execution": {
     "iopub.execute_input": "2022-02-05T03:08:56.349221Z",
     "iopub.status.busy": "2022-02-05T03:08:56.348265Z",
     "iopub.status.idle": "2022-02-05T03:08:56.613909Z",
     "shell.execute_reply": "2022-02-05T03:08:56.614341Z",
     "shell.execute_reply.started": "2022-02-05T03:06:46.062300Z"
    },
    "papermill": {
     "duration": 0.499028,
     "end_time": "2022-02-05T03:08:56.614491",
     "exception": false,
     "start_time": "2022-02-05T03:08:56.115463",
     "status": "completed"
    },
    "tags": []
   },
   "outputs": [
    {
     "data": {
      "text/plain": [
       "(array([0.775, 0.8  , 0.825, 0.85 , 0.875, 0.9  , 0.925, 0.95 , 0.975]),\n",
       " [Text(0, 0, ''),\n",
       "  Text(0, 0, ''),\n",
       "  Text(0, 0, ''),\n",
       "  Text(0, 0, ''),\n",
       "  Text(0, 0, ''),\n",
       "  Text(0, 0, ''),\n",
       "  Text(0, 0, ''),\n",
       "  Text(0, 0, ''),\n",
       "  Text(0, 0, '')])"
      ]
     },
     "execution_count": 13,
     "metadata": {},
     "output_type": "execute_result"
    },
    {
     "data": {
      "image/png": "[encoded data removed]",
      "text/plain": [
       "<Figure size 720x576 with 1 Axes>"
      ]
     },
     "metadata": {
      "needs_background": "light"
     },
     "output_type": "display_data"
    }
   ],
   "source": [
    "plt.figure(figsize=(10,8))\n",
    "plt.plot(history.history['acc'],label='train_acc')\n",
    "plt.plot(history.history['val_acc'],label='val_acc')\n",
    "plt.legend(fontsize=18)\n",
    "plt.xlabel('Epochs',fontsize=18)\n",
    "plt.ylabel('Accuracy',fontsize=18)\n",
    "plt.xticks(fontsize=16)\n",
    "plt.yticks(fontsize=16)"
   ]
  },
  {
   "cell_type": "code",
   "execution_count": 14,
   "id": "99974336",
   "metadata": {
    "execution": {
     "iopub.execute_input": "2022-02-05T03:08:57.097683Z",
     "iopub.status.busy": "2022-02-05T03:08:57.091919Z",
     "iopub.status.idle": "2022-02-05T03:08:57.321687Z",
     "shell.execute_reply": "2022-02-05T03:08:57.322206Z",
     "shell.execute_reply.started": "2022-02-05T03:06:48.442031Z"
    },
    "papermill": {
     "duration": 0.48488,
     "end_time": "2022-02-05T03:08:57.322353",
     "exception": false,
     "start_time": "2022-02-05T03:08:56.837473",
     "status": "completed"
    },
    "tags": []
   },
   "outputs": [
    {
     "data": {
      "text/plain": [
       "(array([0. , 0.1, 0.2, 0.3, 0.4, 0.5, 0.6]),\n",
       " [Text(0, 0, ''),\n",
       "  Text(0, 0, ''),\n",
       "  Text(0, 0, ''),\n",
       "  Text(0, 0, ''),\n",
       "  Text(0, 0, ''),\n",
       "  Text(0, 0, ''),\n",
       "  Text(0, 0, '')])"
      ]
     },
     "execution_count": 14,
     "metadata": {},
     "output_type": "execute_result"
    },
    {
     "data": {
      "image/png": "[encoded data removed]",
      "text/plain": [
       "<Figure size 720x576 with 1 Axes>"
      ]
     },
     "metadata": {
      "needs_background": "light"
     },
     "output_type": "display_data"
    }
   ],
   "source": [
    "plt.figure(figsize=(10,8))\n",
    "plt.plot(history.history['loss'],label='train_loss')\n",
    "plt.plot(history.history['val_loss'],label='val_loss')\n",
    "plt.legend(fontsize=18)\n",
    "plt.xlabel('Epochs',fontsize=18)\n",
    "plt.ylabel('Loss',fontsize=18)\n",
    "plt.xticks(fontsize=16)\n",
    "plt.yticks(fontsize=16)"
   ]
  },
  {
   "cell_type": "code",
   "execution_count": 15,
   "id": "06913619",
   "metadata": {
    "execution": {
     "iopub.execute_input": "2022-02-05T03:08:57.776849Z",
     "iopub.status.busy": "2022-02-05T03:08:57.775893Z",
     "iopub.status.idle": "2022-02-05T03:08:58.776286Z",
     "shell.execute_reply": "2022-02-05T03:08:58.776853Z",
     "shell.execute_reply.started": "2022-02-05T03:06:52.409560Z"
    },
    "papermill": {
     "duration": 1.230406,
     "end_time": "2022-02-05T03:08:58.776994",
     "exception": false,
     "start_time": "2022-02-05T03:08:57.546588",
     "status": "completed"
    },
    "tags": []
   },
   "outputs": [
    {
     "name": "stdout",
     "output_type": "stream",
     "text": [
      "313/313 [==============================] - 1s 2ms/step - loss: 0.1889 - acc: 0.9356\n",
      "loss:0.189\n",
      "acc: 0.936\n",
      "[3 4 4 6 8 5 6 3 6 4]\n",
      "[3 4 4 6 8 5 6 3 6 4]\n"
     ]
    }
   ],
   "source": [
    "test_loss,test_acc=model.evaluate(test_images,test_labels)\n",
    "print('loss:{:.3f}\\nacc: {:.3f}'.format(test_loss,test_acc))\n",
    "\n",
    "test_ans=np.argmax(test_labels[10:20],axis=1)\n",
    "print(test_ans)\n",
    "\n",
    "test_predictions=model.predict(test_images[10:20])\n",
    "test_predictions=np.argmax(test_predictions,axis=1)\n",
    "\n",
    "print(test_predictions)"
   ]
  },
  {
   "cell_type": "code",
   "execution_count": null,
   "id": "6a56ed66",
   "metadata": {
    "papermill": {
     "duration": 0.228595,
     "end_time": "2022-02-05T03:08:59.233329",
     "exception": false,
     "start_time": "2022-02-05T03:08:59.004734",
     "status": "completed"
    },
    "tags": []
   },
   "outputs": [],
   "source": []
  }
 ],
 "metadata": {
  "kernelspec": {
   "display_name": "Python 3",
   "language": "python",
   "name": "python3"
  },
  "language_info": {
   "codemirror_mode": {
    "name": "ipython",
    "version": 3
   },
   "file_extension": ".py",
   "mimetype": "text/x-python",
   "name": "python",
   "nbconvert_exporter": "python",
   "pygments_lexer": "ipython3",
   "version": "3.7.10"
  },
  "papermill": {
   "default_parameters": {},
   "duration": 83.706479,
   "end_time": "2022-02-05T03:09:02.415093",
   "environment_variables": {},
   "exception": null,
   "input_path": "__notebook__.ipynb",
   "output_path": "__notebook__.ipynb",
   "parameters": {},
   "start_time": "2022-02-05T03:07:38.708614",
   "version": "2.3.3"
  }
 },
 "nbformat": 4,
 "nbformat_minor": 5
}
